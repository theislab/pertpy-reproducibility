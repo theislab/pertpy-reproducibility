{
 "cells": [
  {
   "cell_type": "code",
   "execution_count": null,
   "metadata": {},
   "outputs": [],
   "source": [
    "import os\n",
    "os.environ[\"KMP_WARNINGS\"] = \"off\"\n",
    "import warnings\n",
    "warnings.filterwarnings(\"ignore\")"
   ]
  },
  {
   "cell_type": "code",
   "execution_count": null,
   "metadata": {},
   "outputs": [],
   "source": [
    "from pathlib import Path\n",
    "import sys\n",
    "\n",
    "sys.path.insert(1, str(Path().cwd().parent))\n",
    "import common_config"
   ]
  },
  {
   "cell_type": "code",
   "execution_count": null,
   "metadata": {},
   "outputs": [],
   "source": [
    "common_config.figure_journal_basic()"
   ]
  },
  {
   "cell_type": "code",
   "execution_count": null,
   "metadata": {},
   "outputs": [],
   "source": [
    "import pertpy as pt\n",
    "import scanpy as sc\n",
    "import matplotlib.pyplot as plt\n",
    "from sklearn.metrics import silhouette_samples\n",
    "import pandas as pd\n",
    "import seaborn as sns"
   ]
  },
  {
   "cell_type": "code",
   "execution_count": null,
   "metadata": {},
   "outputs": [],
   "source": [
    "G1_CYCLE = [\n",
    "    \"CDKN1A\",\n",
    "    {\"CDKN1B\", \"CDKN1A\"},\n",
    "    \"CDKN1B\",\n",
    "    {\"CDKN1C\", \"CDKN1A\"},\n",
    "    {\"CDKN1C\", \"CDKN1B\"},\n",
    "    \"CDKN1C\",\n",
    "]\n",
    "\n",
    "ERYTHROID = [\n",
    "    {\"CBL\", \"CNN1\"},\n",
    "    {\"CBL\", \"PTPN12\"},\n",
    "    {\"CBL\", \"PTPN9\"},\n",
    "    {\"CBL\", \"UBASH3B\"},\n",
    "    {\"SAMD1\", \"PTPN12\"},\n",
    "    {\"SAMD1\", \"UBASH3B\"},\n",
    "    {\"UBASH3B\", \"CNN1\"},\n",
    "    {\"UBASH3B\", \"PTPN12\"},\n",
    "    {\"UBASH3B\", \"PTPN9\"},\n",
    "    {\"UBASH3B\", \"UBASH3A\"},\n",
    "    {\"UBASH3B\", \"ZBTB25\"},\n",
    "    {\"BPGM\", \"SAMD1\"},\n",
    "    \"PTPN1\",\n",
    "    {\"PTPN12\", \"PTPN9\"},\n",
    "    {\"PTPN12\", \"UBASH3A\"},\n",
    "    {\"PTPN12\", \"ZBTB25\"},\n",
    "    {\"UBASH3A\", \"CNN1\"},\n",
    "]\n",
    "\n",
    "PIONEER_FACTORS = [\n",
    "    {\"FOXA1\", \"FOXF1\"},\n",
    "    {\"FOXA1\", \"FOXL2\"},\n",
    "    {\"FOXA1\", \"HOXB9\"},\n",
    "    {\"FOXA3\", \"FOXA1\"},\n",
    "    {\"FOXA3\", \"FOXF1\"},\n",
    "    {\"FOXA3\", \"FOXL2\"},\n",
    "    {\"FOXA3\", \"HOXB9\"},\n",
    "    \"FOXA3\",\n",
    "    {\"FOXF1\", \"FOXL2\"},\n",
    "    {\"FOXF1\", \"HOXB9\"},\n",
    "    {\"FOXL2\", \"MEIS1\"},\n",
    "    \"HOXA13\",\n",
    "    \"HOXC13\",\n",
    "    {\"POU3F2\", \"FOXL2\"},\n",
    "    \"TP73\",\n",
    "    \"MIDN\",\n",
    "    {\"LYL1\", \"IER5L\"},\n",
    "    \"HOXC13\",\n",
    "    {\"DUSP9\", \"SNAI1\"},\n",
    "    {\"ZBTB10\", \"SNAI1\"},\n",
    "]\n",
    "\n",
    "GRANULOCYTE_APOPTOSIS = [\n",
    "    \"SPI1\",\n",
    "    \"CEBPA\",\n",
    "    {\"CEBPB\", \"CEBPA\"},\n",
    "    \"CEBPB\",\n",
    "    {\"CEBPE\", \"CEBPA\"},\n",
    "    {\"CEBPE\", \"CEBPB\"},\n",
    "    {\"CEBPE\", \"RUNX1T1\"},\n",
    "    {\"CEBPE\", \"SPI1\"},\n",
    "    \"CEBPE\",\n",
    "    {\"ETS2\", \"CEBPE\"},\n",
    "    {\"KLF1\", \"CEBPA\"},\n",
    "    {\"FOSB\", \"CEBPB\"},\n",
    "    {\"FOSB\", \"CEBPE\"},\n",
    "    {\"ZC3HAV1\", \"CEBPA\"},\n",
    "    {\"JUN\", \"CEBPA\"},\n",
    "]\n",
    "\n",
    "PRO_GROWTH = [\n",
    "    {\"CEBPE\", \"KLF1\"},\n",
    "    \"KLF1\",\n",
    "    {\"KLF1\", \"BAK1\"},\n",
    "    {\"KLF1\", \"MAP2K6\"},\n",
    "    {\"KLF1\", \"TGFBR2\"},\n",
    "    \"ELMSAN1\",\n",
    "    {\"MAP2K3\", \"SLC38A2\"},\n",
    "    {\"MAP2K3\", \"ELMSAN1\"},\n",
    "    \"MAP2K3\",\n",
    "    {\"MAP2K3\", \"MAP2K6\"},\n",
    "    {\"MAP2K6\", \"ELMSAN1\"},\n",
    "    \"MAP2K6\",\n",
    "    {\"MAP2K6\", \"KLF1\"},\n",
    "]\n",
    "\n",
    "MEGAKARYOCYTE = [\n",
    "    {\"MAPK1\", \"TGFBR2\"},\n",
    "    \"MAPK1\",\n",
    "    {\"ETS2\", \"MAPK1\"},\n",
    "    \"ETS2\",\n",
    "    {\"CEBPB\", \"MAPK1\"},\n",
    "]\n",
    "\n",
    "programmes = {\n",
    "    \"G1 cell cycle\": G1_CYCLE,\n",
    "    \"Erythroid\": ERYTHROID,\n",
    "    \"Pioneer factors\": PIONEER_FACTORS,\n",
    "    \"Granulocyte apoptosis\": GRANULOCYTE_APOPTOSIS,\n",
    "    \"Pro-growth\": PRO_GROWTH,\n",
    "    \"Megakaryocyte\": MEGAKARYOCYTE,\n",
    "}"
   ]
  },
  {
   "cell_type": "code",
   "execution_count": null,
   "metadata": {},
   "outputs": [],
   "source": [
    "adata = sc.read_h5ad(\"data/norman_preprocessed.h5ad\")\n",
    "adata.obs[\"guide_ids\"] = adata.obs[\"guide_ids\"].cat.rename_categories({\"\": \"control\"})\n",
    "adata"
   ]
  },
  {
   "cell_type": "code",
   "execution_count": null,
   "metadata": {},
   "outputs": [],
   "source": []
  },
  {
   "cell_type": "code",
   "execution_count": null,
   "metadata": {},
   "outputs": [],
   "source": [
    "gene_programme = []\n",
    "\n",
    "for target_pert in adata.obs[\"perturbation_name\"]:\n",
    "    if target_pert == \"control\":\n",
    "        gene_programme.append(\"Control\")\n",
    "        continue\n",
    "\n",
    "    found_programme = False\n",
    "    for programme, pert_list in programmes.items():\n",
    "        for pert in pert_list:\n",
    "            if (type(pert) == set and pert == set(target_pert.split(\"+\"))) or (\n",
    "                target_pert == pert\n",
    "            ):\n",
    "                gene_programme.append(programme)\n",
    "                found_programme = True\n",
    "                break\n",
    "\n",
    "    if not found_programme:\n",
    "        gene_programme.append(\"Unknown\")\n",
    "\n",
    "adata.obs[\"gene_programme\"] = gene_programme\n",
    "adata.obs[\"gene_programme\"] = adata.obs[\"gene_programme\"].astype(\"category\")"
   ]
  },
  {
   "cell_type": "markdown",
   "metadata": {},
   "source": [
    "# Nearest neighbor Mixscape"
   ]
  },
  {
   "cell_type": "code",
   "execution_count": null,
   "metadata": {},
   "outputs": [],
   "source": [
    "nn_adata = adata.copy()"
   ]
  },
  {
   "cell_type": "code",
   "execution_count": 1,
   "metadata": {},
   "outputs": [],
   "source": [
    "ms_pt = pt.tl.Mixscape()\n",
    "ms_pt.perturbation_signature(nn_adata, pert_key=\"perturbation_name\", control=\"control\")"
   ]
  },
  {
   "cell_type": "code",
   "execution_count": null,
   "metadata": {},
   "outputs": [],
   "source": [
    "adata_pert = nn_adata.copy()\n",
    "adata_pert.X = adata_pert.layers[\"X_pert\"]\n",
    "sc.pp.pca(adata_pert)\n",
    "sc.pp.neighbors(adata_pert, metric=\"cosine\")\n",
    "sc.tl.umap(adata_pert)\n",
    "sc.pl.umap(adata_pert, color=\"phase\", palette=\"Set3\", show=False)\n",
    "plt.savefig(\"figures/nn_mixscape_phase_corrected_umap.png\", bbox_inches=\"tight\")"
   ]
  },
  {
   "cell_type": "code",
   "execution_count": null,
   "metadata": {},
   "outputs": [],
   "source": [
    "ms_pt.mixscape(adata=nn_adata, control=\"control\", labels=\"guide_ids\", layer=\"X_pert\")"
   ]
  },
  {
   "cell_type": "code",
   "execution_count": null,
   "metadata": {},
   "outputs": [],
   "source": [
    "plt.rcParams[\"figure.figsize\"] = (5, 4)\n",
    "ms_pt.plot_perturbscore(\n",
    "    adata=nn_adata,\n",
    "    labels=\"guide_ids\",\n",
    "    target_gene=\"IGDCC3,TGFBR2\",\n",
    "    palette={\n",
    "        \"control\": common_config.pt_blue,\n",
    "        \"IGDCC3,TGFBR2 NP\": common_config.pt_orange,\n",
    "        \"IGDCC3,TGFBR2 KO\": common_config.pt_red,\n",
    "    },\n",
    ")\n",
    "plt.savefig(\"figures/nn_mixscape_perturb_score_example.png\", bbox_inches=\"tight\")"
   ]
  },
  {
   "cell_type": "code",
   "execution_count": null,
   "metadata": {},
   "outputs": [],
   "source": [
    "adata_pert.obs[\"mixscape_class_global\"] = nn_adata.obs[\"mixscape_class_global\"]\n",
    "sc.pl.umap(\n",
    "    adata_pert,\n",
    "    color=\"mixscape_class_global\",\n",
    "    palette={\n",
    "        \"control\": common_config.pt_blue,\n",
    "        \"KO\": common_config.pt_red,\n",
    "        \"NP\": common_config.pt_orange,\n",
    "    },\n",
    "    title=\"Mixscape class\",\n",
    "    show=False\n",
    ")\n",
    "plt.savefig(\"figures/nn_mixscape_pert_status_mixscape_corrected_umap.png\", bbox_inches=\"tight\")"
   ]
  },
  {
   "cell_type": "code",
   "execution_count": null,
   "metadata": {},
   "outputs": [],
   "source": [
    "classification_counts = nn_adata.obs[\"mixscape_class_global\"].value_counts()\n",
    "\n",
    "colors = {\n",
    "    \"control\": common_config.pt_blue,\n",
    "    \"KO\": common_config.pt_red,\n",
    "    \"NP\": common_config.pt_orange,\n",
    "}\n",
    "plt.figure(figsize=(3.5, 3))\n",
    "classification_counts.plot(\n",
    "    kind=\"bar\", color=[colors[class_] for class_ in classification_counts.index]\n",
    ")\n",
    "plt.xlabel(\"Mixscape Classification\")\n",
    "plt.ylabel(\"Cell Count\")\n",
    "plt.savefig(\"figures/nn_mixscape_corrected_class_barplot.png\", bbox_inches=\"tight\")\n",
    "plt.show()"
   ]
  },
  {
   "cell_type": "code",
   "execution_count": null,
   "metadata": {},
   "outputs": [],
   "source": [
    "nn_adata_mixscape_cleaned = nn_adata[nn_adata.obs[\"mixscape_class_global\"] != \"NP\"]\n",
    "nn_adata_mixscape_cleaned"
   ]
  },
  {
   "cell_type": "code",
   "execution_count": null,
   "metadata": {},
   "outputs": [],
   "source": [
    "ps = pt.tl.MLPClassifierSpace()\n",
    "pert_embeddings = ps.compute(\n",
    "    nn_adata_mixscape_cleaned,\n",
    "    target_col=\"perturbation_name\",\n",
    "    hidden_dim=[512, 256],\n",
    "    dropout=0.05,\n",
    "    batch_size=64,\n",
    "    batch_norm=True,\n",
    "    max_epochs=5,\n",
    ")"
   ]
  },
  {
   "cell_type": "code",
   "execution_count": null,
   "metadata": {},
   "outputs": [],
   "source": [
    "ps = pt.tl.PseudobulkSpace()\n",
    "nn_psadata_classifier = ps.compute(\n",
    "    pert_embeddings,\n",
    "    target_col=\"perturbations\",\n",
    "    groups_col=\"perturbations\",\n",
    "    mode=\"mean\",\n",
    "    min_cells=0,\n",
    "    min_counts=0,\n",
    ")"
   ]
  },
  {
   "cell_type": "code",
   "execution_count": null,
   "metadata": {},
   "outputs": [],
   "source": [
    "sc.pp.neighbors(nn_psadata_classifier, use_rep=\"X\")\n",
    "sc.tl.umap(nn_psadata_classifier)\n",
    "sc.pl.umap(nn_psadata_classifier, color=\"perturbations\", show=False)\n",
    "plt.savefig(\"figures/nn_mixscape_discriminator_perturbation_name_umap.png\", bbox_inches=\"tight\")"
   ]
  },
  {
   "cell_type": "code",
   "execution_count": null,
   "metadata": {},
   "outputs": [],
   "source": [
    "sc.pl.umap(nn_psadata_classifier, color=\"gene_programme\", show=False)\n",
    "plt.savefig(\"figures/nn_mixscape_discriminator_gene_programme.png\", bbox_inches=\"tight\")"
   ]
  },
  {
   "cell_type": "code",
   "execution_count": null,
   "metadata": {},
   "outputs": [],
   "source": [
    "for key in nn_psadata_classifier.obs.keys():\n",
    "    nn_psadata_classifier.obs[key] = nn_psadata_classifier.obs[key].astype(\"category\")\n",
    "sc.write(\"data/norman/nn_mixscape_psadata_classifier.h5ad\", nn_psadata_classifier)"
   ]
  },
  {
   "cell_type": "markdown",
   "metadata": {},
   "source": [
    "# Gemgroup Mixscape"
   ]
  },
  {
   "cell_type": "code",
   "execution_count": null,
   "metadata": {},
   "outputs": [],
   "source": [
    "gemgroup_adata = adata.copy()"
   ]
  },
  {
   "cell_type": "code",
   "execution_count": null,
   "metadata": {},
   "outputs": [],
   "source": [
    "ms_pt = pt.tl.Mixscape()\n",
    "ms_pt.perturbation_signature(gemgroup_adata,\n",
    "                             pert_key=\"perturbation_name\",\n",
    "                             control=\"control\",\n",
    "                             ref_selection_mode=\"split_by\",\n",
    "                             split_by=\"gemgroup\"\n",
    "                             )"
   ]
  },
  {
   "cell_type": "code",
   "execution_count": null,
   "metadata": {},
   "outputs": [],
   "source": [
    "adata_pert = gemgroup_adata.copy()\n",
    "adata_pert.X = adata_pert.layers[\"X_pert\"]\n",
    "sc.pp.pca(adata_pert)\n",
    "sc.pp.neighbors(adata_pert, metric=\"cosine\")\n",
    "sc.tl.umap(adata_pert)\n",
    "sc.pl.umap(adata_pert, color=\"phase\", palette=\"Set3\", show=False)\n",
    "plt.savefig(\"figures/gemgroup_mixscape_phase_corrected_umap.png\", bbox_inches=\"tight\")"
   ]
  },
  {
   "cell_type": "code",
   "execution_count": null,
   "metadata": {},
   "outputs": [],
   "source": [
    "ms_pt.mixscape(adata=gemgroup_adata, labels=\"guide_ids\", control=\"control\", layer=\"X_pert\")"
   ]
  },
  {
   "cell_type": "code",
   "execution_count": null,
   "metadata": {},
   "outputs": [],
   "source": [
    "plt.rcParams[\"figure.figsize\"] = (5, 4)\n",
    "ms_pt.plot_perturbscore(\n",
    "    adata=gemgroup_adata,\n",
    "    labels=\"guide_ids\",\n",
    "    target_gene=\"IGDCC3,TGFBR2\",\n",
    "    palette={\n",
    "        \"control\": common_config.pt_blue,\n",
    "        \"IGDCC3,TGFBR2 NP\": common_config.pt_orange,\n",
    "        \"IGDCC3,TGFBR2 KO\": common_config.pt_red,\n",
    "    },\n",
    ")\n",
    "plt.savefig(\"figures/gemgroup_mixscape_perturb_score_example.png\", bbox_inches=\"tight\")"
   ]
  },
  {
   "cell_type": "code",
   "execution_count": null,
   "metadata": {},
   "outputs": [],
   "source": [
    "adata_pert.obs[\"mixscape_class_global\"] = gemgroup_adata.obs[\"mixscape_class_global\"]\n",
    "sc.pl.umap(\n",
    "    adata_pert,\n",
    "    color=\"mixscape_class_global\",\n",
    "    palette={\n",
    "        \"control\": common_config.pt_blue,\n",
    "        \"KO\": common_config.pt_red,\n",
    "        \"NP\": common_config.pt_orange,\n",
    "    },\n",
    "    title=\"Mixscape class\",\n",
    "    show=False\n",
    ")\n",
    "plt.savefig(\"figures/gemgroup_mixscape_pert_status_mixscape_corrected_umap.png\", bbox_inches=\"tight\")"
   ]
  },
  {
   "cell_type": "code",
   "execution_count": null,
   "metadata": {},
   "outputs": [],
   "source": [
    "classification_counts = gemgroup_adata.obs[\"mixscape_class_global\"].value_counts()\n",
    "\n",
    "colors = {\n",
    "    \"control\": common_config.pt_blue,\n",
    "    \"KO\": common_config.pt_red,\n",
    "    \"NP\": common_config.pt_orange,\n",
    "}\n",
    "plt.figure(figsize=(3.5, 3))\n",
    "classification_counts.plot(\n",
    "    kind=\"bar\", color=[colors[class_] for class_ in classification_counts.index]\n",
    ")\n",
    "plt.xlabel(\"Mixscape Classification\")\n",
    "plt.ylabel(\"Cell Count\")\n",
    "plt.savefig(\"figures/gemgroup_mixscape_corrected_class_barplot.png\", bbox_inches=\"tight\")\n",
    "plt.show()"
   ]
  },
  {
   "cell_type": "code",
   "execution_count": null,
   "metadata": {},
   "outputs": [],
   "source": [
    "gemgroup_adata_mixscape_cleaned = gemgroup_adata[gemgroup_adata.obs[\"mixscape_class_global\"] != \"NP\"]\n",
    "gemgroup_adata_mixscape_cleaned"
   ]
  },
  {
   "cell_type": "code",
   "execution_count": null,
   "metadata": {},
   "outputs": [],
   "source": [
    "ps = pt.tl.MLPClassifierSpace()\n",
    "pert_embeddings = ps.compute(\n",
    "    gemgroup_adata_mixscape_cleaned,\n",
    "    target_col=\"perturbation_name\",\n",
    "    hidden_dim=[512, 256],\n",
    "    dropout=0.05,\n",
    "    batch_size=64,\n",
    "    batch_norm=True,\n",
    "    max_epochs=5,\n",
    ")"
   ]
  },
  {
   "cell_type": "code",
   "execution_count": null,
   "metadata": {},
   "outputs": [],
   "source": [
    "ps = pt.tl.PseudobulkSpace()\n",
    "gemgroup_psadata_classifier = ps.compute(\n",
    "    pert_embeddings,\n",
    "    target_col=\"perturbations\",\n",
    "    groups_col=\"perturbations\",\n",
    "    mode=\"mean\",\n",
    "    min_cells=0,\n",
    "    min_counts=0,\n",
    ")"
   ]
  },
  {
   "cell_type": "code",
   "execution_count": null,
   "metadata": {},
   "outputs": [],
   "source": [
    "sc.pp.neighbors(gemgroup_psadata_classifier, use_rep=\"X\")\n",
    "sc.tl.umap(gemgroup_psadata_classifier)\n",
    "sc.pl.umap(gemgroup_psadata_classifier, color=\"perturbations\", show=False)\n",
    "plt.savefig(\"figures/gemgroup_mixscape_discriminator_perturbation_name_umap.png\", bbox_inches=\"tight\")"
   ]
  },
  {
   "cell_type": "code",
   "execution_count": null,
   "metadata": {},
   "outputs": [],
   "source": [
    "sc.pl.umap(gemgroup_psadata_classifier, color=\"gene_programme\", show=False)\n",
    "plt.savefig(\"figures/gemgroup_mixscape_discriminator_gene_programme.png\", bbox_inches=\"tight\")"
   ]
  },
  {
   "cell_type": "code",
   "execution_count": null,
   "metadata": {},
   "outputs": [],
   "source": [
    "for key in gemgroup_psadata_classifier.obs.keys():\n",
    "    gemgroup_psadata_classifier.obs[key] = gemgroup_psadata_classifier.obs[key].astype(\"category\")\n",
    "sc.write(\"data/norman/gemgroup_mixscape_psadata_classifier.h5ad\", gemgroup_psadata_classifier)"
   ]
  },
  {
   "cell_type": "markdown",
   "metadata": {},
   "source": [
    "# No Mixscape"
   ]
  },
  {
   "cell_type": "code",
   "execution_count": null,
   "metadata": {},
   "outputs": [],
   "source": [
    "ps = pt.tl.MLPClassifierSpace()\n",
    "pert_embeddings = ps.compute(\n",
    "    adata,\n",
    "    target_col=\"perturbation_name\",\n",
    "    hidden_dim=[512, 256],\n",
    "    dropout=0.05,\n",
    "    batch_size=64,\n",
    "    batch_norm=True,\n",
    "    max_epochs=5,\n",
    ")"
   ]
  },
  {
   "cell_type": "code",
   "execution_count": null,
   "metadata": {},
   "outputs": [],
   "source": [
    "ps = pt.tl.PseudobulkSpace()\n",
    "no_mixscape_psadata_classifier = ps.compute(\n",
    "    pert_embeddings,\n",
    "    target_col=\"perturbations\",\n",
    "    groups_col=\"perturbations\",\n",
    "    mode=\"mean\",\n",
    "    min_cells=0,\n",
    "    min_counts=0,\n",
    ")"
   ]
  },
  {
   "cell_type": "code",
   "execution_count": null,
   "metadata": {},
   "outputs": [],
   "source": [
    "sc.pp.neighbors(no_mixscape_psadata_classifier, use_rep=\"X\")\n",
    "sc.tl.umap(no_mixscape_psadata_classifier)\n",
    "sc.pl.umap(no_mixscape_psadata_classifier, color=\"perturbations\", show=False)\n",
    "plt.savefig(\"figures/no_mixscape_discriminator_perturbation_name_umap.png\", bbox_inches=\"tight\")"
   ]
  },
  {
   "cell_type": "code",
   "execution_count": null,
   "metadata": {},
   "outputs": [],
   "source": [
    "sc.pl.umap(no_mixscape_psadata_classifier, color=\"gene_programme\", show=False)\n",
    "plt.savefig(\"figures/no_mixscape_discriminator_gene_programme.png\", bbox_inches=\"tight\")"
   ]
  },
  {
   "cell_type": "code",
   "execution_count": null,
   "metadata": {},
   "outputs": [],
   "source": [
    "for key in no_mixscape_psadata_classifier.obs.keys():\n",
    "    no_mixscape_psadata_classifier.obs[key] = no_mixscape_psadata_classifier.obs[key].astype(\"category\")\n",
    "sc.write(\"data/norman/no_mixscape_psadata_classifier.h5ad\", no_mixscape_psadata_classifier)"
   ]
  },
  {
   "cell_type": "markdown",
   "metadata": {},
   "source": [
    "# Compare Perturbation Spaces"
   ]
  },
  {
   "cell_type": "code",
   "execution_count": null,
   "metadata": {},
   "outputs": [],
   "source": [
    "nn_psadata_classifier = nn_psadata_classifier[nn_psadata_classifier.obs[\"gene_programme\"] != \"Unknown\"]\n",
    "nn_psadata_classifier.obs[\"silhouette\"] = silhouette_samples(nn_psadata_classifier.obsm[\"X_umap\"], nn_psadata_classifier.obs[\"gene_programme\"])"
   ]
  },
  {
   "cell_type": "code",
   "execution_count": null,
   "metadata": {},
   "outputs": [],
   "source": [
    "gemgroup_psadata_classifier = gemgroup_psadata_classifier[gemgroup_psadata_classifier.obs[\"gene_programme\"] != \"Unknown\"]\n",
    "gemgroup_psadata_classifier.obs[\"silhouette\"] = silhouette_samples(gemgroup_psadata_classifier.obsm[\"X_umap\"], gemgroup_psadata_classifier.obs[\"gene_programme\"])"
   ]
  },
  {
   "cell_type": "code",
   "execution_count": null,
   "metadata": {},
   "outputs": [],
   "source": [
    "no_mixscape_psadata_classifier = no_mixscape_psadata_classifier[no_mixscape_psadata_classifier.obs[\"gene_programme\"] != \"Unknown\"]\n",
    "no_mixscape_psadata_classifier.obs[\"silhouette\"] = silhouette_samples(no_mixscape_psadata_classifier.obsm[\"X_umap\"], no_mixscape_psadata_classifier.obs[\"gene_programme\"])"
   ]
  },
  {
   "cell_type": "code",
   "execution_count": null,
   "metadata": {},
   "outputs": [],
   "source": [
    "# Get mean silhouette scores per gene programme for each method\n",
    "nn_means = nn_psadata_classifier.obs.groupby('gene_programme')['silhouette'].mean()\n",
    "gemgroup_means = gemgroup_psadata_classifier.obs.groupby('gene_programme')['silhouette'].mean()\n",
    "no_mixscape_means = no_mixscape_psadata_classifier.obs.groupby('gene_programme')['silhouette'].mean()\n",
    "\n",
    "# Create dataframe for plotting\n",
    "plot_data = pd.DataFrame({\n",
    "    'Neural Network': nn_means,\n",
    "    'GemGroup': gemgroup_means,\n",
    "    'No Mixscape': no_mixscape_means\n",
    "}).reset_index()\n",
    "\n",
    "# Melt the dataframe for easier plotting\n",
    "plot_data_melted = plot_data.melt(\n",
    "    id_vars=['gene_programme'],\n",
    "    var_name='Method',\n",
    "    value_name='Silhouette Score'\n",
    ")\n",
    "\n",
    "# Create the grouped barplot\n",
    "plt.figure(figsize=(12, 6))\n",
    "sns.barplot(\n",
    "    data=plot_data_melted,\n",
    "    x='gene_programme',\n",
    "    y='Silhouette Score',\n",
    "    hue='Method'\n",
    ")\n",
    "\n",
    "# Customize the plot\n",
    "plt.xticks(rotation=45, ha='right')\n",
    "plt.title('Mean Silhouette Scores by Gene Programme and Method')\n",
    "plt.tight_layout()\n",
    "\n",
    "# Save the figure\n",
    "plt.savefig(\"figures/silhouette_scores_comparison.png\", bbox_inches=\"tight\")\n"
   ]
  }
 ],
 "metadata": {
  "kernelspec": {
   "display_name": "Python 3 (ipykernel)",
   "language": "python",
   "name": "python3"
  },
  "language_info": {
   "codemirror_mode": {
    "name": "ipython",
    "version": 3
   },
   "file_extension": ".py",
   "mimetype": "text/x-python",
   "name": "python",
   "nbconvert_exporter": "python",
   "pygments_lexer": "ipython3",
   "version": "3.10.16"
  }
 },
 "nbformat": 4,
 "nbformat_minor": 2
}
