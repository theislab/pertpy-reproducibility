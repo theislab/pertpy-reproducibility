{
 "cells": [
  {
   "cell_type": "code",
   "execution_count": 4,
   "id": "da5839b6",
   "metadata": {},
   "outputs": [],
   "source": [
    "import warnings\n",
    "\n",
    "warnings.filterwarnings(\"ignore\", category=DeprecationWarning, module=\"pertpy\")\n",
    "\n",
    "import numpy as np\n",
    "import pandas as pd\n",
    "import pertpy as pt\n",
    "import scanpy as sc\n",
    "\n",
    "path = './cca_output'"
   ]
  },
  {
   "cell_type": "code",
   "execution_count": 5,
   "id": "cd4ca7e8",
   "metadata": {},
   "outputs": [
    {
     "data": {
      "text/plain": [
       "AnnData object with n_obs × n_vars = 5374 × 6329\n",
       "    obs: 'nCount_RNA', 'nFeature_RNA', 'cellQ', 'gender', 'location', 'clinical.status', 'cell.subtypes', 'pathology', 'origin', 'subset', 'sample', 'path_str'\n",
       "    var: 'name'"
      ]
     },
     "execution_count": 5,
     "metadata": {},
     "output_type": "execute_result"
    }
   ],
   "source": [
    "adata = pt.dt.dialogue_example()\n",
    "adata"
   ]
  },
  {
   "cell_type": "markdown",
   "id": "0e718e62",
   "metadata": {},
   "source": [
    "Parse out the `sample` variable used in the DIALOGUE example, found here: https://github.com/livnatje/DIALOGUE/wiki/Example"
   ]
  },
  {
   "cell_type": "code",
   "execution_count": 6,
   "id": "fdeb632f",
   "metadata": {},
   "outputs": [],
   "source": [
    "adata.obs['dlg_sample'] = ['_'.join(x.split('.')[:-1]) for x in adata.obs.index]\n",
    "adata.obs['dlg_sample'] = adata.obs['dlg_sample'].astype('category')"
   ]
  },
  {
   "cell_type": "markdown",
   "id": "5434284b",
   "metadata": {},
   "source": [
    "Compute DIALOGUE with matching parameters."
   ]
  },
  {
   "cell_type": "code",
   "execution_count": 7,
   "id": "d36424d7",
   "metadata": {},
   "outputs": [],
   "source": [
    "# get PCA components from the R object\n",
    "pcas = []\n",
    "for ct in ['A', 'B', 'C']:\n",
    "    pcas.append(\n",
    "        pd.read_csv(f'{path}/X_pca_{ct}.csv', index_col=0)\n",
    "    )\n",
    "adata.obsm['X_pca'] = pd.concat(pcas).loc[adata.obs.index].values"
   ]
  },
  {
   "cell_type": "code",
   "execution_count": 8,
   "id": "2b8060fd",
   "metadata": {},
   "outputs": [],
   "source": [
    "# ensure that every cell type is represented in every sample, filter out samples which are missing one\n",
    "isecs = pd.crosstab(adata.obs[\"subset\"], adata.obs[\"dlg_sample\"])\n",
    "adata = adata[adata.obs['dlg_sample'].isin(list(isecs.columns[isecs.all(axis=0)]))]"
   ]
  },
  {
   "cell_type": "code",
   "execution_count": 9,
   "id": "b8f2da46",
   "metadata": {},
   "outputs": [],
   "source": [
    "dl = pt.tl.Dialogue(\n",
    "    sample_id=\"dlg_sample\",\n",
    "    celltype_key=\"subset\",\n",
    "    n_counts_key=\"nCount_RNA\",\n",
    "    n_mpcs=3,\n",
    ")\n",
    "adata, mcps, ws, ct_subs = dl.calculate_multifactor_PMD(\n",
    "    adata, ct_order=['A', 'B', 'C'], normalize=True, n_components=30)"
   ]
  },
  {
   "cell_type": "code",
   "execution_count": 10,
   "id": "ddb7a283",
   "metadata": {},
   "outputs": [
    {
     "data": {
      "text/plain": [
       "{'A': array([[-5.7669056 ,  6.8349498 , -5.04845148],\n",
       "        [ 2.08005192,  6.96710363, -1.3403043 ],\n",
       "        [ 4.21167163,  4.21897857,  1.40072115],\n",
       "        ...,\n",
       "        [-2.70325964, -2.7417633 , -2.33825855],\n",
       "        [-3.59714067, -1.77806464, -6.28650686],\n",
       "        [-4.6564212 , -2.30038976, -0.84388061]]),\n",
       " 'B': array([[ 3.11130825,  0.69955729,  0.85266283],\n",
       "        [ 2.54079313,  3.04932612,  3.98226391],\n",
       "        [ 0.21602093,  1.48820717,  5.04206781],\n",
       "        ...,\n",
       "        [ 3.98506992, -2.59069026, -0.58767398],\n",
       "        [-1.86507028,  0.44118853,  0.98714811],\n",
       "        [-0.09791248, -1.40341592, -2.00320109]]),\n",
       " 'C': array([[ 0.26233966,  3.52190007,  7.06018598],\n",
       "        [ 2.09766818,  3.22548099,  2.72945513],\n",
       "        [-0.39920822,  5.80544514,  6.392281  ],\n",
       "        ...,\n",
       "        [ 0.2515091 , -3.87723146, -3.8069468 ],\n",
       "        [-0.53177246, -3.87148126, -4.10433737],\n",
       "        [-0.7606454 , -1.9749182 , -2.32549458]])}"
      ]
     },
     "execution_count": 10,
     "metadata": {},
     "output_type": "execute_result"
    }
   ],
   "source": [
    "mcps"
   ]
  },
  {
   "cell_type": "markdown",
   "id": "1c9f3111",
   "metadata": {},
   "source": [
    "Verify that the MCP scores match."
   ]
  },
  {
   "cell_type": "code",
   "execution_count": 11,
   "id": "f6f96b10",
   "metadata": {},
   "outputs": [],
   "source": [
    "from scipy.stats import pearsonr"
   ]
  },
  {
   "cell_type": "code",
   "execution_count": 12,
   "id": "f913fcf9",
   "metadata": {},
   "outputs": [
    {
     "name": "stdout",
     "output_type": "stream",
     "text": [
      "cell type A\n",
      "PearsonRResult(statistic=0.9682998608107244, pvalue=0.0)\n",
      "PearsonRResult(statistic=0.9275317696781453, pvalue=0.0)\n",
      "PearsonRResult(statistic=0.960676822624977, pvalue=0.0)\n",
      "cell type B\n",
      "PearsonRResult(statistic=0.988343185699627, pvalue=0.0)\n",
      "PearsonRResult(statistic=0.9403670983030641, pvalue=0.0)\n",
      "PearsonRResult(statistic=0.9016949114728543, pvalue=0.0)\n",
      "cell type C\n",
      "PearsonRResult(statistic=0.9790323905196536, pvalue=0.0)\n",
      "PearsonRResult(statistic=0.9649246065949145, pvalue=0.0)\n",
      "PearsonRResult(statistic=0.9661366587676552, pvalue=0.0)\n"
     ]
    }
   ],
   "source": [
    "r2s = []\n",
    "for ct in ['A', 'B', 'C']:\n",
    "    print('cell type', ct)\n",
    "    orig_mcps = pd.read_csv(f'{path}/{ct}_cca_scores.csv', index_col=0)\n",
    "    for i in [0, 1, 2]:\n",
    "        r2 = pearsonr(\n",
    "            mcps[ct].T[i],\n",
    "            orig_mcps.loc[adata[adata.obs.subset == ct].obs.index][f'MCP{i+1}'].values  # match on barcode\n",
    "        )\n",
    "        print(r2)\n",
    "        r2s.append(r2[0])"
   ]
  },
  {
   "cell_type": "code",
   "execution_count": 15,
   "id": "e8851df5",
   "metadata": {},
   "outputs": [
    {
     "data": {
      "text/plain": [
       "0.9552230338301797"
      ]
     },
     "execution_count": 15,
     "metadata": {},
     "output_type": "execute_result"
    }
   ],
   "source": [
    "np.array(r2s).mean()"
   ]
  }
 ],
 "metadata": {
  "kernelspec": {
   "display_name": "Python [conda env:pertpy_clean2]",
   "language": "python",
   "name": "conda-env-pertpy_clean2-py"
  },
  "language_info": {
   "codemirror_mode": {
    "name": "ipython",
    "version": 3
   },
   "file_extension": ".py",
   "mimetype": "text/x-python",
   "name": "python",
   "nbconvert_exporter": "python",
   "pygments_lexer": "ipython3",
   "version": "3.10.13"
  }
 },
 "nbformat": 4,
 "nbformat_minor": 5
}
