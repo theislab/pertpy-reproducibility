{
 "cells": [
  {
   "cell_type": "code",
   "execution_count": 2,
   "metadata": {
    "vscode": {
     "languageId": "r"
    }
   },
   "outputs": [],
   "source": [
    "suppressPackageStartupMessages(\n",
    "    library('DIALOGUE')\n",
    ")"
   ]
  },
  {
   "cell_type": "code",
   "execution_count": 48,
   "metadata": {
    "vscode": {
     "languageId": "r"
    }
   },
   "outputs": [],
   "source": [
    "# I/O\n",
    "rA <- readRDS(\"/home/peidli/projects/pertpy-reproducibility/benchmark/data/dialogue/test.example.rds\")"
   ]
  },
  {
   "cell_type": "code",
   "execution_count": 46,
   "metadata": {
    "vscode": {
     "languageId": "r"
    }
   },
   "outputs": [],
   "source": [
    "# str(rA[[1]])"
   ]
  },
  {
   "cell_type": "code",
   "execution_count": 50,
   "metadata": {
    "vscode": {
     "languageId": "r"
    }
   },
   "outputs": [],
   "source": [
    "n_cells <- 2000\n",
    "# Get indices to keep (for reproducibility, set a seed)\n",
    "set.seed(123)\n",
    "\n",
    "for (i in 1:length(rA)) {\n",
    "    cell_indices <- sample(seq_along(rA[[i]]@cells), n_cells, replace = TRUE)\n",
    "    temp = rA[[i]]\n",
    "    temp@cells <- rA[[i]]@cells[cell_indices]\n",
    "    temp@cellQ <- rA[[i]]@cellQ[cell_indices]\n",
    "    temp@tpm <- rA[[i]]@tpm[, cell_indices]\n",
    "    temp@X <- rA[[i]]@X[cell_indices, ]  # or t(rA[[1]]@X)[, cell_indices] depending on layout\n",
    "    temp@samples <- rA[[i]]@samples[cell_indices]\n",
    "    temp@metadata <- rA[[i]]@metadata[cell_indices, ]\n",
    "    rA[[i]] <- temp\n",
    "}"
   ]
  },
  {
   "cell_type": "code",
   "execution_count": 51,
   "metadata": {
    "vscode": {
     "languageId": "r"
    }
   },
   "outputs": [
    {
     "name": "stdout",
     "output_type": "stream",
     "text": [
      "[1] \"#************DIALOGUE Step I: PMD ************#\"\n"
     ]
    },
    {
     "name": "stderr",
     "output_type": "stream",
     "text": [
      "Warning message in dir.create(param$results.dir):\n",
      "“'/scratch/peidli/pertpy_benchmark/dialogue' already exists”\n"
     ]
    }
   ],
   "source": [
    "# Create the directory if it doesn't exist\n",
    "path <- \"/scratch/peidli/pertpy_benchmark/dialogue/\"\n",
    "if (!dir.exists(path)) {\n",
    "  dir.create(path, recursive = TRUE)\n",
    "}\n",
    "\n",
    "param <- DLG.get.param(k = 3, conf = c(\"cellQ\"), results.dir = path)\n",
    "res <- DIALOGUE.run(rA = rA, main = \"toyExample\", param = param)"
   ]
  }
 ],
 "metadata": {
  "kernelspec": {
   "display_name": "R",
   "language": "R",
   "name": "ir"
  },
  "language_info": {
   "codemirror_mode": "r",
   "file_extension": ".r",
   "mimetype": "text/x-r-source",
   "name": "R",
   "pygments_lexer": "r",
   "version": "4.4.2"
  }
 },
 "nbformat": 4,
 "nbformat_minor": 2
}
