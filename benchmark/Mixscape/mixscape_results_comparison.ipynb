{
 "cells": [
  {
   "cell_type": "code",
   "execution_count": 1,
   "id": "initial_id",
   "metadata": {
    "collapsed": true,
    "ExecuteTime": {
     "end_time": "2024-10-16T14:34:42.036160Z",
     "start_time": "2024-10-16T14:34:40.072813Z"
    }
   },
   "outputs": [],
   "source": [
    "import anndata as ad"
   ]
  },
  {
   "cell_type": "code",
   "execution_count": 2,
   "outputs": [
    {
     "data": {
      "text/plain": "AnnData object with n_obs × n_vars = 20729 × 1917\n    obs: 'orig.ident', 'nCount_RNA', 'nFeature_RNA', 'nCount_HTO', 'nFeature_HTO', 'nCount_GDO', 'nCount_ADT', 'nFeature_ADT', 'percent.mito', 'MULTI_ID', 'HTO_classification', 'guide_ID', 'gene_target', 'NT', 'perturbation', 'replicate', 'S.Score', 'G2M.Score', 'Phase', 'mixscape_class_p_ko', 'mixscape_class', 'mixscape_class_global'\n    var: 'name', 'highly_variable', 'means', 'dispersions', 'dispersions_norm'\n    uns: 'hvg', 'log1p', 'mixscape', 'mixscape_lda', 'neighbors', 'pca', 'umap'\n    obsm: 'X_pca', 'X_umap'\n    varm: 'PCs'\n    layers: 'X_pert'\n    obsp: 'connectivities', 'distances'"
     },
     "execution_count": 2,
     "metadata": {},
     "output_type": "execute_result"
    }
   ],
   "source": [
    "adata_pertpy = ad.read_h5ad('output/mixscape_pertpy.h5ad')\n",
    "adata_pertpy"
   ],
   "metadata": {
    "collapsed": false,
    "ExecuteTime": {
     "end_time": "2024-10-16T14:34:43.053192Z",
     "start_time": "2024-10-16T14:34:42.043630Z"
    }
   },
   "id": "84f01b9945e14d20"
  },
  {
   "cell_type": "code",
   "execution_count": null,
   "outputs": [],
   "source": [
    "adata_original = ad.read_h5ad('output/mixscape_original.h5ad')\n",
    "adata_original"
   ],
   "metadata": {
    "collapsed": false
   },
   "id": "f0e47cf98920f77a"
  },
  {
   "cell_type": "markdown",
   "source": [
    "# Mixscape class comparison"
   ],
   "metadata": {
    "collapsed": false
   },
   "id": "9c7b3e2770984624"
  },
  {
   "cell_type": "code",
   "execution_count": null,
   "outputs": [],
   "source": [
    "#TODO: Confusion matrix"
   ],
   "metadata": {
    "collapsed": false
   },
   "id": "ae0004dc6831f110"
  },
  {
   "cell_type": "markdown",
   "source": [
    "# Mixscape Score comparison"
   ],
   "metadata": {
    "collapsed": false
   },
   "id": "831618bb97ff4837"
  },
  {
   "cell_type": "code",
   "execution_count": null,
   "outputs": [],
   "source": [
    "#TODO: Correlate scores per gene?"
   ],
   "metadata": {
    "collapsed": false
   },
   "id": "ab22654310642ed4"
  },
  {
   "cell_type": "code",
   "execution_count": null,
   "outputs": [],
   "source": [],
   "metadata": {
    "collapsed": false
   },
   "id": "f543ef460f6c11a2"
  }
 ],
 "metadata": {
  "kernelspec": {
   "display_name": "Python 3",
   "language": "python",
   "name": "python3"
  },
  "language_info": {
   "codemirror_mode": {
    "name": "ipython",
    "version": 2
   },
   "file_extension": ".py",
   "mimetype": "text/x-python",
   "name": "python",
   "nbconvert_exporter": "python",
   "pygments_lexer": "ipython2",
   "version": "2.7.6"
  }
 },
 "nbformat": 4,
 "nbformat_minor": 5
}
