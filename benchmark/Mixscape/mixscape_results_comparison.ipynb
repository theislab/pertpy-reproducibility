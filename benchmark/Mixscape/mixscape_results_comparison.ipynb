{
 "cells": [
  {
   "cell_type": "code",
   "execution_count": 24,
   "id": "initial_id",
   "metadata": {
    "collapsed": true,
    "ExecuteTime": {
     "end_time": "2024-10-30T13:48:29.382117Z",
     "start_time": "2024-10-30T13:48:29.376578Z"
    }
   },
   "outputs": [],
   "source": [
    "import anndata as ad\n",
    "import numpy as np\n",
    "import pandas as pd\n",
    "from sklearn.metrics import confusion_matrix\n",
    "import seaborn as sns\n",
    "import matplotlib.pyplot as plt\n",
    "import os"
   ]
  },
  {
   "cell_type": "markdown",
   "source": [
    "Note for benchmark: Not a fair comparison if presto not installed? -> Much faster implementation of Wilcoxon Rank Sum Test"
   ],
   "metadata": {
    "collapsed": false
   },
   "id": "b99081e092a6062a"
  },
  {
   "cell_type": "code",
   "execution_count": 25,
   "outputs": [
    {
     "data": {
      "text/plain": "AnnData object with n_obs × n_vars = 20729 × 1917\n    obs: 'orig.ident', 'nCount_RNA', 'nFeature_RNA', 'nCount_HTO', 'nFeature_HTO', 'nCount_GDO', 'nCount_ADT', 'nFeature_ADT', 'percent.mito', 'MULTI_ID', 'HTO_classification', 'guide_ID', 'gene_target', 'NT', 'perturbation', 'replicate', 'S.Score', 'G2M.Score', 'Phase', 'mixscape_class_p_ko', 'mixscape_class', 'mixscape_class_global'\n    var: 'name', 'highly_variable', 'means', 'dispersions', 'dispersions_norm'\n    uns: 'hvg', 'log1p', 'mixscape', 'mixscape_lda', 'neighbors', 'pca', 'umap'\n    obsm: 'X_pca', 'X_umap'\n    varm: 'PCs'\n    layers: 'X_pert'\n    obsp: 'connectivities', 'distances'"
     },
     "execution_count": 25,
     "metadata": {},
     "output_type": "execute_result"
    }
   ],
   "source": [
    "adata_pertpy = ad.read_h5ad('output/mixscape_pertpy.h5ad')\n",
    "adata_pertpy"
   ],
   "metadata": {
    "collapsed": false,
    "ExecuteTime": {
     "end_time": "2024-10-30T13:48:30.100816Z",
     "start_time": "2024-10-30T13:48:29.382328Z"
    }
   },
   "id": "84f01b9945e14d20"
  },
  {
   "cell_type": "code",
   "execution_count": 26,
   "outputs": [
    {
     "data": {
      "text/plain": "AnnData object with n_obs × n_vars = 20729 × 2000\n    obs: 'orig.ident', 'nCount_RNA', 'nFeature_RNA', 'nCount_HTO', 'nFeature_HTO', 'nCount_GDO', 'nFeature_GDO', 'nCount_ADT', 'nFeature_ADT', 'percent.mito', 'MULTI_ID', 'MULTI_classification', 'MULTI_classification.global', 'HTO_classification', 'guide_ID', 'guide_ID.global', 'gene', 'con', 'NT', 'crispr', 'replicate', 'S.Score', 'G2M.Score', 'Phase', 'mixscape_class', 'mixscape_class_p_ko', 'mixscape_class.global'\n    var: 'features'\n    obsm: 'X_prtbpca', 'X_prtbumap', 'X_umap'\n    varm: 'PRTBPCA'"
     },
     "execution_count": 26,
     "metadata": {},
     "output_type": "execute_result"
    }
   ],
   "source": [
    "adata_original = ad.read_h5ad('output/mixscape_original.h5ad')\n",
    "adata_original"
   ],
   "metadata": {
    "collapsed": false,
    "ExecuteTime": {
     "end_time": "2024-10-30T13:48:41.292391Z",
     "start_time": "2024-10-30T13:48:30.096427Z"
    }
   },
   "id": "f0e47cf98920f77a"
  },
  {
   "cell_type": "markdown",
   "source": [
    "# Mixscape class comparison"
   ],
   "metadata": {
    "collapsed": false
   },
   "id": "9c7b3e2770984624"
  },
  {
   "cell_type": "code",
   "execution_count": 27,
   "outputs": [
    {
     "data": {
      "text/plain": "True"
     },
     "execution_count": 27,
     "metadata": {},
     "output_type": "execute_result"
    }
   ],
   "source": [
    "np.all(adata_pertpy.obs_names == adata_original.obs_names)"
   ],
   "metadata": {
    "collapsed": false,
    "ExecuteTime": {
     "end_time": "2024-10-30T13:48:41.302480Z",
     "start_time": "2024-10-30T13:48:41.295298Z"
    }
   },
   "id": "f6a4e775626d80c8"
  },
  {
   "cell_type": "code",
   "execution_count": 28,
   "outputs": [],
   "source": [
    "class_pertpy = adata_pertpy.obs[\"mixscape_class_global\"]\n",
    "class_original = adata_original.obs[\"mixscape_class.global\"]"
   ],
   "metadata": {
    "collapsed": false,
    "ExecuteTime": {
     "end_time": "2024-10-30T13:48:41.315135Z",
     "start_time": "2024-10-30T13:48:41.299883Z"
    }
   },
   "id": "718253252fe4d5a5"
  },
  {
   "cell_type": "code",
   "execution_count": 29,
   "outputs": [
    {
     "data": {
      "text/plain": "<Figure size 400x400 with 1 Axes>",
      "image/png": "[encoded data removed]"
     },
     "metadata": {},
     "output_type": "display_data"
    }
   ],
   "source": [
    "cm = confusion_matrix(class_original, class_pertpy)\n",
    "unique_classes = sorted(class_original.unique())\n",
    "cm_df = pd.DataFrame(cm, index=unique_classes, columns=unique_classes)\n",
    "\n",
    "plt.figure(figsize=(4, 4))\n",
    "sns.heatmap(cm_df, annot=True, fmt=\"d\", cmap=\"Blues\", cbar=False)\n",
    "plt.xlabel(\"Mixscape Class Pertpy Implementation\")\n",
    "plt.ylabel(\"Mixscape Class Original Implementation\")\n",
    "plt.title(\"Confusion Matrix\")\n",
    "plt.show()"
   ],
   "metadata": {
    "collapsed": false,
    "ExecuteTime": {
     "end_time": "2024-10-30T13:48:41.454638Z",
     "start_time": "2024-10-30T13:48:41.315815Z"
    }
   },
   "id": "ae0004dc6831f110"
  },
  {
   "cell_type": "markdown",
   "source": [
    "# Mixscape Score comparison"
   ],
   "metadata": {
    "collapsed": false
   },
   "id": "831618bb97ff4837"
  },
  {
   "cell_type": "code",
   "execution_count": 30,
   "outputs": [],
   "source": [
    "#TODO: Correlate scores per gene?"
   ],
   "metadata": {
    "collapsed": false,
    "ExecuteTime": {
     "end_time": "2024-10-30T13:48:41.469456Z",
     "start_time": "2024-10-30T13:48:41.457986Z"
    }
   },
   "id": "ab22654310642ed4"
  },
  {
   "cell_type": "code",
   "execution_count": 58,
   "outputs": [
    {
     "data": {
      "text/plain": "dict_keys(['BRD4', 'CUL3', 'IFNGR1', 'IFNGR2', 'IRF1', 'JAK2', 'MYC', 'SMAD4', 'SPI1', 'STAT1', 'STAT2'])"
     },
     "execution_count": 58,
     "metadata": {},
     "output_type": "execute_result"
    }
   ],
   "source": [
    "# Get genes for which scores are available, i.e. genes for which mixscape identified some KO cells\n",
    "genes = adata_pertpy.uns[\"mixscape\"].keys()\n",
    "genes"
   ],
   "metadata": {
    "collapsed": false,
    "ExecuteTime": {
     "end_time": "2024-10-30T14:55:13.513018Z",
     "start_time": "2024-10-30T14:55:13.507Z"
    }
   },
   "id": "e8aeecc3759bcb9c"
  },
  {
   "cell_type": "code",
   "execution_count": 59,
   "outputs": [
    {
     "data": {
      "text/plain": "                         pvec gene_target\nl1_AAACGGGAGACAGAGA  1.314598          NT\nl1_AAAGCAACAGTGGAGT  1.698296          NT\nl1_AAAGTAGAGGATCGCA -0.000152          NT\nl1_AACCATGGTCTCTCTG  1.015490        BRD4\nl1_AACGTTGCAGGTGGAT  2.391241        BRD4\n...                       ...         ...\nl8_TTTCCTCTCAGCAACT  0.412861          NT\nl8_TTTGGTTGTTCCTCCA  1.929055          NT\nl8_TTTGGTTTCGACCAGC  3.233432          NT\nl8_TTTGTCAAGTTACGGG  0.903435          NT\nl8_TTTGTCAGTGACGGTA  0.174643          NT\n\n[2727 rows x 2 columns]",
      "text/html": "<div>\n<style scoped>\n    .dataframe tbody tr th:only-of-type {\n        vertical-align: middle;\n    }\n\n    .dataframe tbody tr th {\n        vertical-align: top;\n    }\n\n    .dataframe thead th {\n        text-align: right;\n    }\n</style>\n<table border=\"1\" class=\"dataframe\">\n  <thead>\n    <tr style=\"text-align: right;\">\n      <th></th>\n      <th>pvec</th>\n      <th>gene_target</th>\n    </tr>\n  </thead>\n  <tbody>\n    <tr>\n      <th>l1_AAACGGGAGACAGAGA</th>\n      <td>1.314598</td>\n      <td>NT</td>\n    </tr>\n    <tr>\n      <th>l1_AAAGCAACAGTGGAGT</th>\n      <td>1.698296</td>\n      <td>NT</td>\n    </tr>\n    <tr>\n      <th>l1_AAAGTAGAGGATCGCA</th>\n      <td>-0.000152</td>\n      <td>NT</td>\n    </tr>\n    <tr>\n      <th>l1_AACCATGGTCTCTCTG</th>\n      <td>1.015490</td>\n      <td>BRD4</td>\n    </tr>\n    <tr>\n      <th>l1_AACGTTGCAGGTGGAT</th>\n      <td>2.391241</td>\n      <td>BRD4</td>\n    </tr>\n    <tr>\n      <th>...</th>\n      <td>...</td>\n      <td>...</td>\n    </tr>\n    <tr>\n      <th>l8_TTTCCTCTCAGCAACT</th>\n      <td>0.412861</td>\n      <td>NT</td>\n    </tr>\n    <tr>\n      <th>l8_TTTGGTTGTTCCTCCA</th>\n      <td>1.929055</td>\n      <td>NT</td>\n    </tr>\n    <tr>\n      <th>l8_TTTGGTTTCGACCAGC</th>\n      <td>3.233432</td>\n      <td>NT</td>\n    </tr>\n    <tr>\n      <th>l8_TTTGTCAAGTTACGGG</th>\n      <td>0.903435</td>\n      <td>NT</td>\n    </tr>\n    <tr>\n      <th>l8_TTTGTCAGTGACGGTA</th>\n      <td>0.174643</td>\n      <td>NT</td>\n    </tr>\n  </tbody>\n</table>\n<p>2727 rows × 2 columns</p>\n</div>"
     },
     "execution_count": 59,
     "metadata": {},
     "output_type": "execute_result"
    }
   ],
   "source": [
    "adata_pertpy.uns[\"mixscape\"][\"BRD4\"][\"all\"]"
   ],
   "metadata": {
    "collapsed": false,
    "ExecuteTime": {
     "end_time": "2024-10-30T14:55:14.608022Z",
     "start_time": "2024-10-30T14:55:14.603997Z"
    }
   },
   "id": "e2f5ff2af2cbeb6d"
  },
  {
   "cell_type": "code",
   "execution_count": 60,
   "outputs": [
    {
     "data": {
      "text/plain": "['all']"
     },
     "execution_count": 60,
     "metadata": {},
     "output_type": "execute_result"
    }
   ],
   "source": [
    "keys = []\n",
    "for gene in adata_pertpy.uns[\"mixscape\"].keys():\n",
    "    keys.extend(adata_pertpy.uns[\"mixscape\"][gene].keys())\n",
    "keys = list(set(keys))\n",
    "keys"
   ],
   "metadata": {
    "collapsed": false,
    "ExecuteTime": {
     "end_time": "2024-10-30T14:55:15.262336Z",
     "start_time": "2024-10-30T14:55:15.259099Z"
    }
   },
   "id": "b912a059ee297057"
  },
  {
   "cell_type": "code",
   "execution_count": 61,
   "outputs": [
    {
     "data": {
      "text/plain": "dict_keys(['NT', 'CUL3', 'MARCH8', 'CD86', 'IFNGR1', 'UBE2L6', 'NFKBIA', 'POU2F2', 'IFNGR2', 'JAK2', 'ATF2', 'IRF7', 'STAT1', 'SMAD4', 'CAV1', 'STAT2', 'STAT3', 'BRD4', 'IRF1', 'PDCD1LG2', 'MYC', 'STAT5A', 'TNFRSF14', 'SPI1', 'ETV7', 'CMTM6'])"
     },
     "execution_count": 61,
     "metadata": {},
     "output_type": "execute_result"
    }
   ],
   "source": [
    "csv_dir = \"output/gene_csv_files\"\n",
    "prtb_score_dict = {}\n",
    "\n",
    "# Iterate over each file in the directory\n",
    "for filename in os.listdir(csv_dir):\n",
    "    if filename.endswith(\".csv\"):\n",
    "        gene_name = filename.replace(\".csv\", \"\")\n",
    "        \n",
    "        # Load the CSV file into a pandas DataFrame\n",
    "        file_path = os.path.join(csv_dir, filename)\n",
    "        prtb_score_dict[gene_name] = pd.read_csv(file_path, index_col=0)\n",
    "\n",
    "prtb_score_dict.keys()"
   ],
   "metadata": {
    "collapsed": false,
    "ExecuteTime": {
     "end_time": "2024-10-30T14:55:15.585182Z",
     "start_time": "2024-10-30T14:55:15.536418Z"
    }
   },
   "id": "70b70bc98ef1fb9e"
  },
  {
   "cell_type": "code",
   "execution_count": 62,
   "outputs": [
    {
     "data": {
      "text/plain": "                     con1.pvec con1.gene\nl1_ACTGCTCGTCACCTAA   0.456143      SPI1\nl1_CGAGCACCATTGGTAC   0.341470      SPI1\nl1_CTACACCGTACCAGTT   5.491969      SPI1\nl1_GCACATACAATGAAAC   0.020769      SPI1\nl1_GTGTTAGTCGTAGGTT   0.011281      SPI1\n...                        ...       ...\nl8_TTTCCTCTCAGCAACT   0.291665        NT\nl8_TTTGGTTGTTCCTCCA  -0.237432        NT\nl8_TTTGGTTTCGACCAGC   0.183291        NT\nl8_TTTGTCAAGTTACGGG  -0.400810        NT\nl8_TTTGTCAGTGACGGTA  -0.150252        NT\n\n[2434 rows x 2 columns]",
      "text/html": "<div>\n<style scoped>\n    .dataframe tbody tr th:only-of-type {\n        vertical-align: middle;\n    }\n\n    .dataframe tbody tr th {\n        vertical-align: top;\n    }\n\n    .dataframe thead th {\n        text-align: right;\n    }\n</style>\n<table border=\"1\" class=\"dataframe\">\n  <thead>\n    <tr style=\"text-align: right;\">\n      <th></th>\n      <th>con1.pvec</th>\n      <th>con1.gene</th>\n    </tr>\n  </thead>\n  <tbody>\n    <tr>\n      <th>l1_ACTGCTCGTCACCTAA</th>\n      <td>0.456143</td>\n      <td>SPI1</td>\n    </tr>\n    <tr>\n      <th>l1_CGAGCACCATTGGTAC</th>\n      <td>0.341470</td>\n      <td>SPI1</td>\n    </tr>\n    <tr>\n      <th>l1_CTACACCGTACCAGTT</th>\n      <td>5.491969</td>\n      <td>SPI1</td>\n    </tr>\n    <tr>\n      <th>l1_GCACATACAATGAAAC</th>\n      <td>0.020769</td>\n      <td>SPI1</td>\n    </tr>\n    <tr>\n      <th>l1_GTGTTAGTCGTAGGTT</th>\n      <td>0.011281</td>\n      <td>SPI1</td>\n    </tr>\n    <tr>\n      <th>...</th>\n      <td>...</td>\n      <td>...</td>\n    </tr>\n    <tr>\n      <th>l8_TTTCCTCTCAGCAACT</th>\n      <td>0.291665</td>\n      <td>NT</td>\n    </tr>\n    <tr>\n      <th>l8_TTTGGTTGTTCCTCCA</th>\n      <td>-0.237432</td>\n      <td>NT</td>\n    </tr>\n    <tr>\n      <th>l8_TTTGGTTTCGACCAGC</th>\n      <td>0.183291</td>\n      <td>NT</td>\n    </tr>\n    <tr>\n      <th>l8_TTTGTCAAGTTACGGG</th>\n      <td>-0.400810</td>\n      <td>NT</td>\n    </tr>\n    <tr>\n      <th>l8_TTTGTCAGTGACGGTA</th>\n      <td>-0.150252</td>\n      <td>NT</td>\n    </tr>\n  </tbody>\n</table>\n<p>2434 rows × 2 columns</p>\n</div>"
     },
     "execution_count": 62,
     "metadata": {},
     "output_type": "execute_result"
    }
   ],
   "source": [
    "prtb_score_dict[\"SPI1\"]"
   ],
   "metadata": {
    "collapsed": false,
    "ExecuteTime": {
     "end_time": "2024-10-30T14:55:16.356672Z",
     "start_time": "2024-10-30T14:55:16.353021Z"
    }
   },
   "id": "94dc2ca5d520a665"
  },
  {
   "cell_type": "code",
   "execution_count": 66,
   "outputs": [
    {
     "name": "stdout",
     "output_type": "stream",
     "text": [
      "Gene: BRD4, MSE: 1.9131894078246228, PCC: 0.7262476479528126\n",
      "Gene: CUL3, MSE: 2.653430247498101, PCC: 0.4250236373923599\n",
      "Gene: IFNGR1, MSE: 1.0429453351003748, PCC: 0.9287463641568469\n",
      "Gene: IFNGR2, MSE: 0.9620993243381074, PCC: 0.9220216839494504\n",
      "Gene: IRF1, MSE: 1.3520866589263125, PCC: 0.901703483837578\n",
      "Gene: JAK2, MSE: 0.8113150669406988, PCC: 0.9220939628574059\n",
      "Gene: MYC, MSE: 2.701684380780317, PCC: 0.10538538820169567\n",
      "Gene: SMAD4, MSE: 1.4844293288861876, PCC: 0.7556202633993717\n",
      "Gene: SPI1, MSE: 0.7961745708727179, PCC: 0.22735856844237978\n",
      "Gene: STAT1, MSE: 0.42424455623110546, PCC: 0.9195427678416199\n",
      "Gene: STAT2, MSE: 0.3887051184382416, PCC: 0.9358624899757132\n"
     ]
    }
   ],
   "source": [
    "from sklearn.metrics import mean_squared_error\n",
    "for gene in genes:\n",
    "    # Correlate scores per gene\n",
    "    scores_pertpy = adata_pertpy.uns[\"mixscape\"][gene][\"all\"]\n",
    "    scores_original = prtb_score_dict[gene]\n",
    "    # Bring scores into same order\n",
    "    scores_original = scores_original.loc[scores_pertpy.index]\n",
    "    \n",
    "    mse = mean_squared_error(scores_pertpy[\"pvec\"], scores_original[\"con1.pvec\"])\n",
    "    pcc = np.corrcoef(scores_pertpy[\"pvec\"], scores_original[\"con1.pvec\"])[0, 1]\n",
    "    print(f\"Gene: {gene}, MSE: {mse}, PCC: {pcc}\")"
   ],
   "metadata": {
    "collapsed": false,
    "ExecuteTime": {
     "end_time": "2024-10-30T14:59:36.868937Z",
     "start_time": "2024-10-30T14:59:36.849208Z"
    }
   },
   "id": "983f25b05aef38f1"
  }
 ],
 "metadata": {
  "kernelspec": {
   "display_name": "Python 3",
   "language": "python",
   "name": "python3"
  },
  "language_info": {
   "codemirror_mode": {
    "name": "ipython",
    "version": 2
   },
   "file_extension": ".py",
   "mimetype": "text/x-python",
   "name": "python",
   "nbconvert_exporter": "python",
   "pygments_lexer": "ipython2",
   "version": "2.7.6"
  }
 },
 "nbformat": 4,
 "nbformat_minor": 5
}
