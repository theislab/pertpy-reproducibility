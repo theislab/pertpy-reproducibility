{
 "cells": [
  {
   "cell_type": "code",
   "execution_count": 1,
   "metadata": {
    "vscode": {
     "languageId": "r"
    }
   },
   "outputs": [],
   "source": [
    "suppressPackageStartupMessages({\n",
    "    library(dplyr)\n",
    "    library(SingleCellExperiment)\n",
    "    library(miloR)\n",
    "    library(Matrix)\n",
    "    # library(scater)\n",
    "    # library(scran)\n",
    "    library(patchwork)\n",
    "})"
   ]
  },
  {
   "cell_type": "markdown",
   "metadata": {},
   "source": [
    "# Old"
   ]
  },
  {
   "cell_type": "code",
   "execution_count": 2,
   "metadata": {
    "vscode": {
     "languageId": "r"
    }
   },
   "outputs": [],
   "source": [
    "h5ad=\"/scratch/peidli/pertpy_benchmark/milo_data_1000.h5ad\"\n",
    "obs=\"/scratch/peidli/pertpy_benchmark/milo_obs_1000.csv\"\n",
    "obsm_scvi=\"/scratch/peidli/pertpy_benchmark/milo_obsm_scvi_1000.csv\"\n",
    "obsm_umap=\"/scratch/peidli/pertpy_benchmark/milo_obsm_umap_1000.csv\"\n",
    "mtx=\"/scratch/peidli/pertpy_benchmark/milo_data_1000.mtx\"\n",
    "\n",
    "# Construct SCE object with empry counts and logcounts\n",
    "obs <- read.csv(obs)\n",
    "obsm_scvi <- read.csv(obsm_scvi)\n",
    "obsm_umap <- read.csv(obsm_umap)\n",
    "mtx <-Matrix::readMM(mtx)\n",
    "# transpose the matrix\n",
    "mtx <- t(mtx)"
   ]
  },
  {
   "cell_type": "code",
   "execution_count": 7,
   "metadata": {
    "vscode": {
     "languageId": "r"
    }
   },
   "outputs": [],
   "source": [
    "sce <- SingleCellExperiment(\n",
    "    assays = list(\n",
    "        counts = mtx,\n",
    "        logcounts = mtx\n",
    "    ),\n",
    "    colData = obs,\n",
    "    reducedDims = list(\n",
    "        scvi = as.matrix(obsm_scvi),\n",
    "        umap = as.matrix(obsm_umap)\n",
    "    )\n",
    ")"
   ]
  },
  {
   "cell_type": "code",
   "execution_count": 4,
   "metadata": {
    "vscode": {
     "languageId": "r"
    }
   },
   "outputs": [
    {
     "data": {
      "text/plain": [
       "class: SingleCellExperiment \n",
       "dim: 16299 1000 \n",
       "metadata(0):\n",
       "assays(2): counts logcounts\n",
       "rownames: NULL\n",
       "rowData names(0):\n",
       "colnames: NULL\n",
       "colData names(22): X Collection_Day ... cell_type dataset_group\n",
       "reducedDimNames(2): scvi umap\n",
       "mainExpName: NULL\n",
       "altExpNames(0):"
      ]
     },
     "metadata": {},
     "output_type": "display_data"
    }
   ],
   "source": [
    "sce"
   ]
  },
  {
   "cell_type": "code",
   "execution_count": 5,
   "metadata": {
    "vscode": {
     "languageId": "r"
    }
   },
   "outputs": [
    {
     "data": {
      "text/html": [
       "<style>\n",
       ".list-inline {list-style: none; margin:0; padding: 0}\n",
       ".list-inline>li {display: inline-block}\n",
       ".list-inline>li:not(:last-child)::after {content: \"\\00b7\"; padding: 0 .5ex}\n",
       "</style>\n",
       "<ol class=list-inline><li>16299</li><li>1000</li></ol>\n"
      ],
      "text/latex": [
       "\\begin{enumerate*}\n",
       "\\item 16299\n",
       "\\item 1000\n",
       "\\end{enumerate*}\n"
      ],
      "text/markdown": [
       "1. 16299\n",
       "2. 1000\n",
       "\n",
       "\n"
      ],
      "text/plain": [
       "[1] 16299  1000"
      ]
     },
     "metadata": {},
     "output_type": "display_data"
    },
    {
     "data": {
      "text/html": [
       "<style>\n",
       ".list-inline {list-style: none; margin:0; padding: 0}\n",
       ".list-inline>li {display: inline-block}\n",
       ".list-inline>li:not(:last-child)::after {content: \"\\00b7\"; padding: 0 .5ex}\n",
       "</style>\n",
       "<ol class=list-inline><li>1000</li><li>22</li></ol>\n"
      ],
      "text/latex": [
       "\\begin{enumerate*}\n",
       "\\item 1000\n",
       "\\item 22\n",
       "\\end{enumerate*}\n"
      ],
      "text/markdown": [
       "1. 1000\n",
       "2. 22\n",
       "\n",
       "\n"
      ],
      "text/plain": [
       "[1] 1000   22"
      ]
     },
     "metadata": {},
     "output_type": "display_data"
    },
    {
     "data": {
      "text/html": [
       "<style>\n",
       ".list-inline {list-style: none; margin:0; padding: 0}\n",
       ".list-inline>li {display: inline-block}\n",
       ".list-inline>li:not(:last-child)::after {content: \"\\00b7\"; padding: 0 .5ex}\n",
       "</style>\n",
       "<ol class=list-inline><li>1000</li><li>11</li></ol>\n"
      ],
      "text/latex": [
       "\\begin{enumerate*}\n",
       "\\item 1000\n",
       "\\item 11\n",
       "\\end{enumerate*}\n"
      ],
      "text/markdown": [
       "1. 1000\n",
       "2. 11\n",
       "\n",
       "\n"
      ],
      "text/plain": [
       "[1] 1000   11"
      ]
     },
     "metadata": {},
     "output_type": "display_data"
    },
    {
     "data": {
      "text/html": [
       "<style>\n",
       ".list-inline {list-style: none; margin:0; padding: 0}\n",
       ".list-inline>li {display: inline-block}\n",
       ".list-inline>li:not(:last-child)::after {content: \"\\00b7\"; padding: 0 .5ex}\n",
       "</style>\n",
       "<ol class=list-inline><li>1000</li><li>3</li></ol>\n"
      ],
      "text/latex": [
       "\\begin{enumerate*}\n",
       "\\item 1000\n",
       "\\item 3\n",
       "\\end{enumerate*}\n"
      ],
      "text/markdown": [
       "1. 1000\n",
       "2. 3\n",
       "\n",
       "\n"
      ],
      "text/plain": [
       "[1] 1000    3"
      ]
     },
     "metadata": {},
     "output_type": "display_data"
    }
   ],
   "source": [
    "dim(mtx)\n",
    "dim(obs)        # Number of rows should equal number of cells\n",
    "dim(reducedDim(sce, \"scvi\"))\n",
    "dim(reducedDim(sce, \"umap\"))"
   ]
  },
  {
   "cell_type": "code",
   "execution_count": 8,
   "metadata": {
    "vscode": {
     "languageId": "r"
    }
   },
   "outputs": [],
   "source": [
    "# Set a seed for reproducibility\n",
    "set.seed(69)\n",
    "\n",
    "# Assign random unique row names (e.g., gene identifiers)\n",
    "rownames(sce) <- paste0(\"gene_\", sample(1e7, nrow(sce)))\n",
    "\n",
    "# Assign random unique column names (e.g., cell identifiers)\n",
    "colnames(sce) <- paste0(\"cell_\", sample(1e7, ncol(sce)))"
   ]
  },
  {
   "cell_type": "code",
   "execution_count": 9,
   "metadata": {
    "vscode": {
     "languageId": "r"
    }
   },
   "outputs": [],
   "source": [
    "milo.obj <- Milo(sce)"
   ]
  },
  {
   "cell_type": "code",
   "execution_count": null,
   "metadata": {
    "vscode": {
     "languageId": "r"
    }
   },
   "outputs": [
    {
     "name": "stderr",
     "output_type": "stream",
     "text": [
      "Warning message in storage.mode(X) <- \"double\":\n",
      "“NAs introduced by coercion”\n"
     ]
    }
   ],
   "source": [
    "milo.obj <- buildGraph(milo.obj, k=15, d=10, reduced.dim=\"scvi\")"
   ]
  },
  {
   "cell_type": "code",
   "execution_count": null,
   "metadata": {
    "vscode": {
     "languageId": "r"
    }
   },
   "outputs": [
    {
     "name": "stderr",
     "output_type": "stream",
     "text": [
      "Warning message in storage.mode(X) <- \"double\":\n",
      "“NAs introduced by coercion”\n"
     ]
    }
   ],
   "source": [
    "\n",
    "milo.obj <- makeNhoods(milo.obj, k=15, d=10, refined=TRUE, prop=0.01, refinement_scheme=\"graph\")"
   ]
  },
  {
   "cell_type": "markdown",
   "metadata": {},
   "source": [
    "# Other data"
   ]
  },
  {
   "cell_type": "code",
   "execution_count": 3,
   "metadata": {
    "vscode": {
     "languageId": "r"
    }
   },
   "outputs": [],
   "source": [
    "data(\"sim_trajectory\", package = \"miloR\")"
   ]
  },
  {
   "cell_type": "code",
   "execution_count": 44,
   "metadata": {
    "vscode": {
     "languageId": "r"
    }
   },
   "outputs": [],
   "source": [
    "## Extract SingleCellExperiment object\n",
    "traj_sce <- sim_trajectory[['SCE']]\n",
    "colData(traj_sce) <- DataFrame(sim_trajectory[[\"meta\"]])\n",
    "colnames(traj_sce) <- colData(traj_sce)$cell_id\n",
    "redim <- reducedDim(traj_sce, \"PCA\")\n",
    "dimnames(redim) <- list(colnames(traj_sce), paste0(\"PC\", c(1:50)))\n",
    "reducedDim(traj_sce, \"PCA\") <- redim "
   ]
  },
  {
   "cell_type": "code",
   "execution_count": 19,
   "metadata": {
    "vscode": {
     "languageId": "r"
    }
   },
   "outputs": [],
   "source": [
    "# Suppose sce is your SingleCellExperiment object.\n",
    "# Define the desired new total number of cells.\n",
    "new_total_cells <- 2000  # for example, doubling from 1000 to 2000\n",
    "\n",
    "# Sample column indices with replacement.\n",
    "new_indices <- sample(seq_len(ncol(traj_sce)), size = new_total_cells, replace = TRUE)\n",
    "\n",
    "# Create a new SCE with upsampled cells.\n",
    "traj_sce_upsampled <- traj_sce[, new_indices]"
   ]
  },
  {
   "cell_type": "code",
   "execution_count": null,
   "metadata": {
    "vscode": {
     "languageId": "r"
    }
   },
   "outputs": [],
   "source": []
  },
  {
   "cell_type": "code",
   "execution_count": 23,
   "metadata": {
    "vscode": {
     "languageId": "r"
    }
   },
   "outputs": [
    {
     "name": "stderr",
     "output_type": "stream",
     "text": [
      "Constructing kNN graph with k:150\n",
      "\n"
     ]
    }
   ],
   "source": []
  },
  {
   "cell_type": "code",
   "execution_count": 24,
   "metadata": {
    "vscode": {
     "languageId": "r"
    }
   },
   "outputs": [
    {
     "name": "stderr",
     "output_type": "stream",
     "text": [
      "Checking valid object\n",
      "\n",
      "Running refined sampling with reduced_dim\n",
      "\n"
     ]
    }
   ],
   "source": [
    "traj_milo <- buildGraph(traj_milo, k=150, d=10, reduced.dim=\"PCA\")\n",
    "traj_milo <- makeNhoods(traj_milo, k=15, d=10, refined=TRUE, prop=0.01, refinement_scheme=\"graph\")\n",
    "traj_milo <- countCells(traj_milo, meta.data = data.frame(colData(traj_milo)), samples=\"Sample\")"
   ]
  },
  {
   "cell_type": "code",
   "execution_count": 25,
   "metadata": {
    "vscode": {
     "languageId": "r"
    }
   },
   "outputs": [
    {
     "name": "stderr",
     "output_type": "stream",
     "text": [
      "Checking valid object\n",
      "\n",
      "Running refined sampling with graph\n",
      "\n"
     ]
    }
   ],
   "source": []
  },
  {
   "cell_type": "code",
   "execution_count": 38,
   "metadata": {
    "vscode": {
     "languageId": "r"
    }
   },
   "outputs": [
    {
     "name": "stderr",
     "output_type": "stream",
     "text": [
      "Checking meta.data validity\n",
      "\n",
      "Counting cells in neighbourhoods\n",
      "\n"
     ]
    }
   ],
   "source": []
  },
  {
   "cell_type": "code",
   "execution_count": null,
   "metadata": {
    "vscode": {
     "languageId": "r"
    }
   },
   "outputs": [],
   "source": []
  },
  {
   "cell_type": "code",
   "execution_count": 45,
   "metadata": {
    "vscode": {
     "languageId": "r"
    }
   },
   "outputs": [
    {
     "name": "stderr",
     "output_type": "stream",
     "text": [
      "Constructing kNN graph with k:150\n",
      "\n",
      "Checking valid object\n",
      "\n",
      "Running refined sampling with graph\n",
      "\n",
      "Checking meta.data validity\n",
      "\n",
      "Counting cells in neighbourhoods\n",
      "\n"
     ]
    }
   ],
   "source": [
    "target_n <- 1000\n",
    "\n",
    "data(\"sim_trajectory\", package = \"miloR\")\n",
    "## Extract SingleCellExperiment object\n",
    "traj_sce <- sim_trajectory[['SCE']]\n",
    "colData(traj_sce) <- DataFrame(sim_trajectory[[\"meta\"]])\n",
    "colnames(traj_sce) <- colData(traj_sce)$cell_id\n",
    "redim <- reducedDim(traj_sce, \"PCA\")\n",
    "dimnames(redim) <- list(colnames(traj_sce), paste0(\"PC\", c(1:50)))\n",
    "reducedDim(traj_sce, \"PCA\") <- redim \n",
    "\n",
    "# Upsample\n",
    "new_indices <- sample(seq_len(ncol(traj_sce)), size = target_n, replace = TRUE)\n",
    "traj_sce_upsampled <- traj_sce[, new_indices]\n",
    "\n",
    "# Run Milo\n",
    "traj_milo <- buildGraph(traj_milo, k=150, d=10, reduced.dim=\"PCA\")\n",
    "traj_milo <- makeNhoods(traj_milo, k=15, d=10, refined=TRUE, prop=0.01, refinement_scheme=\"graph\")\n",
    "traj_milo <- countCells(traj_milo, meta.data = data.frame(colData(traj_milo)), samples=\"Sample\")"
   ]
  },
  {
   "cell_type": "code",
   "execution_count": 47,
   "metadata": {
    "vscode": {
     "languageId": "r"
    }
   },
   "outputs": [
    {
     "name": "stderr",
     "output_type": "stream",
     "text": [
      "Using TMM normalisation\n",
      "\n",
      "Running with model contrasts\n",
      "\n",
      "Performing spatial FDR correction with graph-overlap weighting\n",
      "\n"
     ]
    }
   ],
   "source": [
    "traj_design <- data.frame(colData(traj_milo))[,c(\"Sample\", \"Condition\")]\n",
    "traj_design <- distinct(traj_design)\n",
    "rownames(traj_design) <- traj_design$Sample\n",
    "## Reorder rownames to match columns of nhoodCounts(milo)\n",
    "traj_design <- traj_design[colnames(nhoodCounts(traj_milo)), , drop=FALSE]\n",
    "milo_res <- testNhoods(\n",
    "    traj_milo,\n",
    "    design=~Condition,\n",
    "    design.df=traj_design,\n",
    "    reduced.dim=\"PCA\",\n",
    "    fdr.weighting=\"graph-overlap\"\n",
    ")"
   ]
  },
  {
   "cell_type": "code",
   "execution_count": null,
   "metadata": {
    "vscode": {
     "languageId": "r"
    }
   },
   "outputs": [],
   "source": []
  }
 ],
 "metadata": {
  "kernelspec": {
   "display_name": "R",
   "language": "R",
   "name": "ir"
  },
  "language_info": {
   "codemirror_mode": "r",
   "file_extension": ".r",
   "mimetype": "text/x-r-source",
   "name": "R",
   "pygments_lexer": "r",
   "version": "4.4.2"
  }
 },
 "nbformat": 4,
 "nbformat_minor": 2
}
