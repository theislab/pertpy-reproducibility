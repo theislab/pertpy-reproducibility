{
 "cells": [
  {
   "cell_type": "code",
   "execution_count": 1,
   "metadata": {
    "vscode": {
     "languageId": "r"
    }
   },
   "outputs": [],
   "source": [
    "# Load packages\n",
    "suppressPackageStartupMessages({\n",
    "  library(Seurat)\n",
    "  library(SeuratData)\n",
    "  library(ggplot2)\n",
    "  library(patchwork)\n",
    "  library(scales)\n",
    "  library(dplyr)\n",
    "  library(reshape2)\n",
    "})"
   ]
  },
  {
   "cell_type": "code",
   "execution_count": 26,
   "metadata": {
    "vscode": {
     "languageId": "r"
    }
   },
   "outputs": [
    {
     "name": "stderr",
     "output_type": "stream",
     "text": [
      "Warning message:\n",
      "“The following packages are already installed and will not be reinstalled: thp1.eccite”\n",
      "Validating object structure\n",
      "\n",
      "Updating object slots\n",
      "\n",
      "Ensuring keys are in the proper structure\n",
      "\n",
      "Warning message:\n",
      "“Assay RNA changing from Assay to Assay”\n",
      "Warning message:\n",
      "“Assay ADT changing from Assay to Assay”\n",
      "Warning message:\n",
      "“Assay HTO changing from Assay to Assay”\n",
      "Warning message:\n",
      "“Assay GDO changing from Assay to Assay”\n",
      "Ensuring keys are in the proper structure\n",
      "\n",
      "Ensuring feature names don't have underscores or pipes\n",
      "\n",
      "Updating slots in RNA\n",
      "\n",
      "Updating slots in ADT\n",
      "\n",
      "Updating slots in HTO\n",
      "\n",
      "Updating slots in GDO\n",
      "\n",
      "Validating object structure for Assay ‘RNA’\n",
      "\n",
      "Validating object structure for Assay ‘ADT’\n",
      "\n",
      "Validating object structure for Assay ‘HTO’\n",
      "\n",
      "Validating object structure for Assay ‘GDO’\n",
      "\n",
      "Object representation is consistent with the most current Seurat version\n",
      "\n"
     ]
    }
   ],
   "source": [
    "# Load dataset\n",
    "InstallData(ds = \"thp1.eccite\")\n",
    "eccite <- LoadData(ds = \"thp1.eccite\")\n",
    "eccite <- UpdateSeuratObject(eccite)"
   ]
  },
  {
   "cell_type": "code",
   "execution_count": 27,
   "metadata": {
    "vscode": {
     "languageId": "r"
    }
   },
   "outputs": [],
   "source": [
    "# Upsample\n",
    "target_n <- 1000\n",
    "\n",
    "rna <- GetAssayData(eccite, slot = \"counts\", assay = \"RNA\")\n",
    "adt <- GetAssayData(eccite, slot = \"counts\", assay = \"ADT\")\n",
    "orig_meta <- eccite[[]]\n",
    "rownames(orig_meta) <- colnames(rna)\n",
    "cell_names <- colnames(rna)\n",
    "# Sample cell names with replacement\n",
    "new_cell_names <- sample(cell_names, target_n, replace = TRUE)\n",
    "new_rna <- rna[, new_cell_names]\n",
    "new_adt <- adt[, new_cell_names]\n",
    "upsampled_meta <- orig_meta[new_cell_names, ]\n",
    "new_names <- paste0(new_cell_names, \"_dup\", seq_along(new_cell_names))\n",
    "colnames(new_rna) <- new_names\n",
    "colnames(new_adt) <- new_names\n",
    "rownames(upsampled_meta) <- new_names\n",
    "eccite_upsampled <- CreateSeuratObject(new_rna, meta.data = upsampled_meta)\n",
    "# add upsampled data\n",
    "eccite_upsampled[[\"RNA\"]] <- CreateAssay5Object(counts = new_rna)\n",
    "eccite_upsampled[[\"ADT\"]] <- CreateAssay5Object(counts = new_adt)\n"
   ]
  },
  {
   "cell_type": "code",
   "execution_count": 33,
   "metadata": {
    "vscode": {
     "languageId": "r"
    }
   },
   "outputs": [
    {
     "name": "stderr",
     "output_type": "stream",
     "text": [
      "Normalizing layer: counts\n",
      "\n",
      "Normalizing across cells\n",
      "\n",
      "Normalizing layer: counts\n",
      "\n",
      "Finding variable features for layer counts\n",
      "\n",
      "Centering and scaling data matrix\n",
      "\n"
     ]
    }
   ],
   "source": [
    "# Preprocessing\n",
    "# Protein\n",
    "eccite_upsampled <- Seurat::NormalizeData(\n",
    "  object = eccite_upsampled,\n",
    "  assay = \"ADT\",\n",
    "  normalization.method = \"CLR\",\n",
    "  margin = 2)\n",
    "\n",
    "# RNA\n",
    "DefaultAssay(object = eccite_upsampled) <- 'RNA'\n",
    "eccite_upsampled <- NormalizeData(object = eccite_upsampled) %>% FindVariableFeatures() %>% ScaleData()\n"
   ]
  },
  {
   "cell_type": "code",
   "execution_count": 34,
   "metadata": {
    "vscode": {
     "languageId": "r"
    }
   },
   "outputs": [
    {
     "name": "stderr",
     "output_type": "stream",
     "text": [
      "Warning message:\n",
      "“No columnames present in cell embeddings, setting to 'PC_1:50'”\n"
     ]
    }
   ],
   "source": [
    "# Create a random matrix with one row per cell and 50 principal components\n",
    "set.seed(123)\n",
    "cells <- Cells(eccite_upsampled)\n",
    "rand_mat <- matrix(rnorm(length(cells) * 50, 0, 1), nrow = length(cells), ncol = 50)\n",
    "rownames(rand_mat) <- cells\n",
    "eccite_upsampled[[\"pca\"]] <- CreateDimReducObject(\n",
    "  embeddings = rand_mat,\n",
    "  key = \"PC_\",\n",
    "  assay = DefaultAssay(eccite_upsampled)\n",
    ")\n"
   ]
  },
  {
   "cell_type": "code",
   "execution_count": 35,
   "metadata": {
    "vscode": {
     "languageId": "r"
    }
   },
   "outputs": [
    {
     "name": "stderr",
     "output_type": "stream",
     "text": [
      "Processing rep3\n",
      "\n",
      "Processing rep2\n",
      "\n",
      "Processing rep1\n",
      "\n",
      "Warning message:\n",
      "“Layer counts isn't present in the assay object; returning NULL”\n"
     ]
    }
   ],
   "source": [
    "# Mitigating confounding effects\n",
    "eccite_upsampled<- CalcPerturbSig(\n",
    "  object = eccite_upsampled,\n",
    "  assay = \"RNA\",\n",
    "  slot = \"data\",\n",
    "  gd.class =\"gene\",\n",
    "  nt.cell.class = \"NT\",\n",
    "  reduction = \"pca\",\n",
    "  ndims = 40,\n",
    "  num.neighbors = 20,\n",
    "  split.by = \"replicate\",\n",
    "  new.assay.name = \"PRTB\")"
   ]
  },
  {
   "cell_type": "code",
   "execution_count": 36,
   "metadata": {
    "vscode": {
     "languageId": "r"
    }
   },
   "outputs": [
    {
     "name": "stderr",
     "output_type": "stream",
     "text": [
      "For a (much!) faster implementation of the Wilcoxon Rank Sum Test,\n",
      "(default method for FindMarkers) please install the presto package\n",
      "--------------------------------------------\n",
      "install.packages('devtools')\n",
      "devtools::install_github('immunogenomics/presto')\n",
      "--------------------------------------------\n",
      "After installation of presto, Seurat will automatically use the more \n",
      "efficient implementation (no further action necessary).\n",
      "This message will be shown once per session\n",
      "\n",
      "Warning message:\n",
      "“Different cells and/or features from existing assay PRTB”\n",
      "Warning message:\n",
      "“Layer counts isn't present in the assay object; returning NULL”\n"
     ]
    },
    {
     "name": "stdout",
     "output_type": "stream",
     "text": [
      "number of iterations= 42 \n",
      "number of iterations= 26 \n",
      "number of iterations= 18 \n",
      "number of iterations= 10 \n",
      "number of iterations= 15 \n",
      "number of iterations= 5 \n",
      "number of iterations= 21 \n",
      "number of iterations= 10 \n",
      "number of iterations= 5 \n",
      "number of iterations= 37 \n",
      "number of iterations= 18 \n",
      "number of iterations= 62 \n",
      "number of iterations= 49 \n",
      "number of iterations= 29 \n",
      "number of iterations= 23 \n",
      "number of iterations= 10 \n",
      "number of iterations= 10 \n"
     ]
    }
   ],
   "source": [
    "# Prepare PRTB assay for dimensionality reduction:\n",
    "# Normalize data, find variable features and center data\n",
    "DefaultAssay(object = eccite_upsampled) <- 'PRTB'\n",
    "\n",
    "# identify cells with no detectable perturbation\n",
    "eccite_upsampled <- RunMixscape(\n",
    "  object = eccite_upsampled,\n",
    "  assay = \"PRTB\",\n",
    "  slot = \"scale.data\",\n",
    "  labels = \"gene\",\n",
    "  nt.class.name = \"NT\",\n",
    "  min.de.genes = 5,\n",
    "  iter.num = 10,\n",
    "  de.assay = \"RNA\",\n",
    "  verbose = F,\n",
    "  prtb.type = \"KO\")"
   ]
  },
  {
   "cell_type": "code",
   "execution_count": null,
   "metadata": {
    "vscode": {
     "languageId": "r"
    }
   },
   "outputs": [],
   "source": []
  }
 ],
 "metadata": {
  "kernelspec": {
   "display_name": "R",
   "language": "R",
   "name": "ir"
  },
  "language_info": {
   "codemirror_mode": "r",
   "file_extension": ".r",
   "mimetype": "text/x-r-source",
   "name": "R",
   "pygments_lexer": "r",
   "version": "4.4.3"
  }
 },
 "nbformat": 4,
 "nbformat_minor": 2
}
