{
 "cells": [
  {
   "cell_type": "markdown",
   "metadata": {},
   "source": [
    "# R"
   ]
  },
  {
   "cell_type": "code",
   "execution_count": null,
   "metadata": {},
   "outputs": [],
   "source": [
    "# Load packages\n",
    "suppressPackageStartupMessages({\n",
    "  library(Seurat)\n",
    "  library(SeuratData)\n",
    "  library(ggplot2)\n",
    "  library(patchwork)\n",
    "  library(scales)\n",
    "  library(dplyr)\n",
    "  library(reshape2)\n",
    "})"
   ]
  },
  {
   "cell_type": "code",
   "execution_count": null,
   "metadata": {},
   "outputs": [
    {
     "name": "stderr",
     "output_type": "stream",
     "text": [
      "Warning message:\n",
      "“The following packages are already installed and will not be reinstalled: thp1.eccite”\n",
      "Validating object structure\n",
      "\n",
      "Updating object slots\n",
      "\n",
      "Ensuring keys are in the proper structure\n",
      "\n",
      "Warning message:\n",
      "“Assay RNA changing from Assay to Assay”\n",
      "Warning message:\n",
      "“Assay ADT changing from Assay to Assay”\n",
      "Warning message:\n",
      "“Assay HTO changing from Assay to Assay”\n",
      "Warning message:\n",
      "“Assay GDO changing from Assay to Assay”\n",
      "Ensuring keys are in the proper structure\n",
      "\n",
      "Ensuring feature names don't have underscores or pipes\n",
      "\n",
      "Updating slots in RNA\n",
      "\n",
      "Updating slots in ADT\n",
      "\n",
      "Updating slots in HTO\n",
      "\n",
      "Updating slots in GDO\n",
      "\n",
      "Validating object structure for Assay ‘RNA’\n",
      "\n",
      "Validating object structure for Assay ‘ADT’\n",
      "\n",
      "Validating object structure for Assay ‘HTO’\n",
      "\n",
      "Validating object structure for Assay ‘GDO’\n",
      "\n",
      "Object representation is consistent with the most current Seurat version\n",
      "\n"
     ]
    }
   ],
   "source": [
    "# Load dataset\n",
    "InstallData(ds = \"thp1.eccite\")\n",
    "eccite <- LoadData(ds = \"thp1.eccite\")\n",
    "eccite <- UpdateSeuratObject(eccite)"
   ]
  },
  {
   "cell_type": "code",
   "execution_count": null,
   "metadata": {},
   "outputs": [],
   "source": [
    "# Upsample\n",
    "target_n <- 1000\n",
    "\n",
    "rna <- GetAssayData(eccite, slot = \"counts\", assay = \"RNA\")\n",
    "adt <- GetAssayData(eccite, slot = \"counts\", assay = \"ADT\")\n",
    "orig_meta <- eccite[[]]\n",
    "rownames(orig_meta) <- colnames(rna)\n",
    "cell_names <- colnames(rna)\n",
    "# Sample cell names with replacement\n",
    "new_cell_names <- sample(cell_names, target_n, replace = TRUE)\n",
    "new_rna <- rna[, new_cell_names]\n",
    "new_adt <- adt[, new_cell_names]\n",
    "upsampled_meta <- orig_meta[new_cell_names, ]\n",
    "new_names <- paste0(new_cell_names, \"_dup\", seq_along(new_cell_names))\n",
    "colnames(new_rna) <- new_names\n",
    "colnames(new_adt) <- new_names\n",
    "rownames(upsampled_meta) <- new_names\n",
    "eccite_upsampled <- CreateSeuratObject(new_rna, meta.data = upsampled_meta)\n",
    "# add upsampled data\n",
    "eccite_upsampled[[\"RNA\"]] <- CreateAssay5Object(counts = new_rna)\n",
    "eccite_upsampled[[\"ADT\"]] <- CreateAssay5Object(counts = new_adt)\n"
   ]
  },
  {
   "cell_type": "code",
   "execution_count": null,
   "metadata": {},
   "outputs": [
    {
     "name": "stderr",
     "output_type": "stream",
     "text": [
      "Normalizing layer: counts\n",
      "\n",
      "Normalizing across cells\n",
      "\n",
      "Normalizing layer: counts\n",
      "\n",
      "Finding variable features for layer counts\n",
      "\n",
      "Centering and scaling data matrix\n",
      "\n"
     ]
    }
   ],
   "source": [
    "# Preprocessing\n",
    "# Protein\n",
    "eccite_upsampled <- Seurat::NormalizeData(\n",
    "  object = eccite_upsampled,\n",
    "  assay = \"ADT\",\n",
    "  normalization.method = \"CLR\",\n",
    "  margin = 2)\n",
    "\n",
    "# RNA\n",
    "DefaultAssay(object = eccite_upsampled) <- 'RNA'\n",
    "eccite_upsampled <- NormalizeData(object = eccite_upsampled) %>% FindVariableFeatures() %>% ScaleData()\n"
   ]
  },
  {
   "cell_type": "code",
   "execution_count": null,
   "metadata": {},
   "outputs": [
    {
     "name": "stderr",
     "output_type": "stream",
     "text": [
      "Warning message:\n",
      "“No columnames present in cell embeddings, setting to 'PC_1:50'”\n"
     ]
    }
   ],
   "source": [
    "# Create a random matrix with one row per cell and 50 principal components\n",
    "set.seed(123)\n",
    "cells <- Cells(eccite_upsampled)\n",
    "rand_mat <- matrix(rnorm(length(cells) * 50, 0, 1), nrow = length(cells), ncol = 50)\n",
    "rownames(rand_mat) <- cells\n",
    "eccite_upsampled[[\"pca\"]] <- CreateDimReducObject(\n",
    "  embeddings = rand_mat,\n",
    "  key = \"PC_\",\n",
    "  assay = DefaultAssay(eccite_upsampled)\n",
    ")\n"
   ]
  },
  {
   "cell_type": "code",
   "execution_count": null,
   "metadata": {},
   "outputs": [
    {
     "name": "stderr",
     "output_type": "stream",
     "text": [
      "Processing rep3\n",
      "\n",
      "Processing rep2\n",
      "\n",
      "Processing rep1\n",
      "\n",
      "Warning message:\n",
      "“Layer counts isn't present in the assay object; returning NULL”\n"
     ]
    }
   ],
   "source": [
    "# Mitigating confounding effects\n",
    "eccite_upsampled<- CalcPerturbSig(\n",
    "  object = eccite_upsampled,\n",
    "  assay = \"RNA\",\n",
    "  slot = \"data\",\n",
    "  gd.class =\"gene\",\n",
    "  nt.cell.class = \"NT\",\n",
    "  reduction = \"pca\",\n",
    "  ndims = 40,\n",
    "  num.neighbors = 20,\n",
    "  split.by = \"replicate\",\n",
    "  new.assay.name = \"PRTB\")"
   ]
  },
  {
   "cell_type": "code",
   "execution_count": null,
   "metadata": {},
   "outputs": [
    {
     "name": "stderr",
     "output_type": "stream",
     "text": [
      "For a (much!) faster implementation of the Wilcoxon Rank Sum Test,\n",
      "(default method for FindMarkers) please install the presto package\n",
      "--------------------------------------------\n",
      "install.packages('devtools')\n",
      "devtools::install_github('immunogenomics/presto')\n",
      "--------------------------------------------\n",
      "After installation of presto, Seurat will automatically use the more \n",
      "efficient implementation (no further action necessary).\n",
      "This message will be shown once per session\n",
      "\n",
      "Warning message:\n",
      "“Different cells and/or features from existing assay PRTB”\n",
      "Warning message:\n",
      "“Layer counts isn't present in the assay object; returning NULL”\n"
     ]
    },
    {
     "name": "stdout",
     "output_type": "stream",
     "text": [
      "number of iterations= 42 \n",
      "number of iterations= 26 \n",
      "number of iterations= 18 \n",
      "number of iterations= 10 \n",
      "number of iterations= 15 \n",
      "number of iterations= 5 \n",
      "number of iterations= 21 \n",
      "number of iterations= 10 \n",
      "number of iterations= 5 \n",
      "number of iterations= 37 \n",
      "number of iterations= 18 \n",
      "number of iterations= 62 \n",
      "number of iterations= 49 \n",
      "number of iterations= 29 \n",
      "number of iterations= 23 \n",
      "number of iterations= 10 \n",
      "number of iterations= 10 \n"
     ]
    }
   ],
   "source": [
    "# Prepare PRTB assay for dimensionality reduction:\n",
    "# Normalize data, find variable features and center data\n",
    "DefaultAssay(object = eccite_upsampled) <- 'PRTB'\n",
    "\n",
    "# identify cells with no detectable perturbation\n",
    "eccite_upsampled <- RunMixscape(\n",
    "  object = eccite_upsampled,\n",
    "  assay = \"PRTB\",\n",
    "  slot = \"scale.data\",\n",
    "  labels = \"gene\",\n",
    "  nt.class.name = \"NT\",\n",
    "  min.de.genes = 5,\n",
    "  iter.num = 10,\n",
    "  de.assay = \"RNA\",\n",
    "  verbose = F,\n",
    "  prtb.type = \"KO\")"
   ]
  },
  {
   "cell_type": "markdown",
   "metadata": {
    "vscode": {
     "languageId": "r"
    }
   },
   "source": [
    "# DEBUG (py)"
   ]
  },
  {
   "cell_type": "code",
   "execution_count": 1,
   "metadata": {},
   "outputs": [
    {
     "ename": "ImportError",
     "evalue": "cannot import name 'get_literal_vals' from 'scanpy._utils' (/home/peidli/miniconda3/envs/pertpy_env/lib/python3.11/site-packages/scanpy/_utils/__init__.py)",
     "output_type": "error",
     "traceback": [
      "\u001b[31m---------------------------------------------------------------------------\u001b[39m",
      "\u001b[31mImportError\u001b[39m                               Traceback (most recent call last)",
      "\u001b[36mCell\u001b[39m\u001b[36m \u001b[39m\u001b[32mIn[1]\u001b[39m\u001b[32m, line 2\u001b[39m\n\u001b[32m      1\u001b[39m \u001b[38;5;28;01mfrom\u001b[39;00m\u001b[38;5;250m \u001b[39m\u001b[34;01mpathlib\u001b[39;00m\u001b[38;5;250m \u001b[39m\u001b[38;5;28;01mimport\u001b[39;00m Path\n\u001b[32m----> \u001b[39m\u001b[32m2\u001b[39m \u001b[38;5;28;01mfrom\u001b[39;00m\u001b[38;5;250m \u001b[39m\u001b[34;01mpertpy\u001b[39;00m\u001b[34;01m.\u001b[39;00m\u001b[34;01mtools\u001b[39;00m\u001b[38;5;250m \u001b[39m\u001b[38;5;28;01mimport\u001b[39;00m Mixscape\n\u001b[32m      3\u001b[39m \u001b[38;5;28;01mfrom\u001b[39;00m\u001b[38;5;250m \u001b[39m\u001b[34;01mscanpy\u001b[39;00m\u001b[38;5;250m \u001b[39m\u001b[38;5;28;01mimport\u001b[39;00m AnnData, read_h5ad\n",
      "\u001b[36mFile \u001b[39m\u001b[32m~/miniconda3/envs/pertpy_env/lib/python3.11/site-packages/pertpy/__init__.py:17\u001b[39m\n\u001b[32m     14\u001b[39m warnings.filterwarnings(\u001b[33m\"\u001b[39m\u001b[33mignore\u001b[39m\u001b[33m\"\u001b[39m, category=\u001b[38;5;167;01mSyntaxWarning\u001b[39;00m)\n\u001b[32m     15\u001b[39m warnings.filterwarnings(\u001b[33m\"\u001b[39m\u001b[33mignore\u001b[39m\u001b[33m\"\u001b[39m, category=\u001b[38;5;167;01mUserWarning\u001b[39;00m, module=\u001b[33m\"\u001b[39m\u001b[33mscvi._settings\u001b[39m\u001b[33m\"\u001b[39m)\n\u001b[32m---> \u001b[39m\u001b[32m17\u001b[39m \u001b[38;5;28;01mfrom\u001b[39;00m\u001b[38;5;250m \u001b[39m\u001b[34;01m.\u001b[39;00m\u001b[38;5;250m \u001b[39m\u001b[38;5;28;01mimport\u001b[39;00m data \u001b[38;5;28;01mas\u001b[39;00m dt\n\u001b[32m     18\u001b[39m \u001b[38;5;28;01mfrom\u001b[39;00m\u001b[38;5;250m \u001b[39m\u001b[34;01m.\u001b[39;00m\u001b[38;5;250m \u001b[39m\u001b[38;5;28;01mimport\u001b[39;00m metadata \u001b[38;5;28;01mas\u001b[39;00m md\n\u001b[32m     19\u001b[39m \u001b[38;5;28;01mfrom\u001b[39;00m\u001b[38;5;250m \u001b[39m\u001b[34;01m.\u001b[39;00m\u001b[38;5;250m \u001b[39m\u001b[38;5;28;01mimport\u001b[39;00m plot \u001b[38;5;28;01mas\u001b[39;00m pl\n",
      "\u001b[36mFile \u001b[39m\u001b[32m~/miniconda3/envs/pertpy_env/lib/python3.11/site-packages/pertpy/data/__init__.py:1\u001b[39m\n\u001b[32m----> \u001b[39m\u001b[32m1\u001b[39m \u001b[38;5;28;01mfrom\u001b[39;00m\u001b[38;5;250m \u001b[39m\u001b[34;01mpertpy\u001b[39;00m\u001b[34;01m.\u001b[39;00m\u001b[34;01mdata\u001b[39;00m\u001b[34;01m.\u001b[39;00m\u001b[34;01m_datasets\u001b[39;00m\u001b[38;5;250m \u001b[39m\u001b[38;5;28;01mimport\u001b[39;00m (\n\u001b[32m      2\u001b[39m     adamson_2016_pilot,\n\u001b[32m      3\u001b[39m     adamson_2016_upr_epistasis,\n\u001b[32m      4\u001b[39m     adamson_2016_upr_perturb_seq,\n\u001b[32m      5\u001b[39m     aissa_2021,\n\u001b[32m      6\u001b[39m     bhattacherjee,\n\u001b[32m      7\u001b[39m     burczynski_crohn,\n\u001b[32m      8\u001b[39m     chang_2021,\n\u001b[32m      9\u001b[39m     cinemaot_example,\n\u001b[32m     10\u001b[39m     combosciplex,\n\u001b[32m     11\u001b[39m     datlinger_2017,\n\u001b[32m     12\u001b[39m     datlinger_2021,\n\u001b[32m     13\u001b[39m     dialogue_example,\n\u001b[32m     14\u001b[39m     distance_example,\n\u001b[32m     15\u001b[39m     dixit_2016,\n\u001b[32m     16\u001b[39m     dixit_2016_raw,\n\u001b[32m     17\u001b[39m     dong_2023,\n\u001b[32m     18\u001b[39m     frangieh_2021,\n\u001b[32m     19\u001b[39m     frangieh_2021_protein,\n\u001b[32m     20\u001b[39m     frangieh_2021_raw,\n\u001b[32m     21\u001b[39m     frangieh_2021_rna,\n\u001b[32m     22\u001b[39m     gasperini_2019_atscale,\n\u001b[32m     23\u001b[39m     gasperini_2019_highmoi,\n\u001b[32m     24\u001b[39m     gasperini_2019_lowmoi,\n\u001b[32m     25\u001b[39m     gehring_2019,\n\u001b[32m     26\u001b[39m     haber_2017_regions,\n\u001b[32m     27\u001b[39m     hagai_2018,\n\u001b[32m     28\u001b[39m     kang_2018,\n\u001b[32m     29\u001b[39m     mcfarland_2020,\n\u001b[32m     30\u001b[39m     norman_2019,\n\u001b[32m     31\u001b[39m     norman_2019_raw,\n\u001b[32m     32\u001b[39m     papalexi_2021,\n\u001b[32m     33\u001b[39m     replogle_2022_k562_essential,\n\u001b[32m     34\u001b[39m     replogle_2022_k562_gwps,\n\u001b[32m     35\u001b[39m     replogle_2022_rpe1,\n\u001b[32m     36\u001b[39m     sc_sim_augur,\n\u001b[32m     37\u001b[39m     schiebinger_2019_16day,\n\u001b[32m     38\u001b[39m     schiebinger_2019_18day,\n\u001b[32m     39\u001b[39m     schraivogel_2020_tap_screen_chr8,\n\u001b[32m     40\u001b[39m     schraivogel_2020_tap_screen_chr11,\n\u001b[32m     41\u001b[39m     sciplex3_raw,\n\u001b[32m     42\u001b[39m     sciplex_gxe1,\n\u001b[32m     43\u001b[39m     shifrut_2018,\n\u001b[32m     44\u001b[39m     smillie_2019,\n\u001b[32m     45\u001b[39m     srivatsan_2020_sciplex2,\n\u001b[32m     46\u001b[39m     srivatsan_2020_sciplex3,\n\u001b[32m     47\u001b[39m     srivatsan_2020_sciplex4,\n\u001b[32m     48\u001b[39m     stephenson_2021_subsampled,\n\u001b[32m     49\u001b[39m     tasccoda_example,\n\u001b[32m     50\u001b[39m     tian_2019_day7neuron,\n\u001b[32m     51\u001b[39m     tian_2019_ipsc,\n\u001b[32m     52\u001b[39m     tian_2021_crispra,\n\u001b[32m     53\u001b[39m     tian_2021_crispri,\n\u001b[32m     54\u001b[39m     weinreb_2020,\n\u001b[32m     55\u001b[39m     xie_2017,\n\u001b[32m     56\u001b[39m     zhang_2021,\n\u001b[32m     57\u001b[39m     zhao_2021,\n\u001b[32m     58\u001b[39m )\n\u001b[32m     60\u001b[39m __all__ = [\n\u001b[32m     61\u001b[39m     \u001b[33m\"\u001b[39m\u001b[33madamson_2016_pilot\u001b[39m\u001b[33m\"\u001b[39m,\n\u001b[32m     62\u001b[39m     \u001b[33m\"\u001b[39m\u001b[33madamson_2016_upr_epistasis\u001b[39m\u001b[33m\"\u001b[39m,\n\u001b[32m   (...)\u001b[39m\u001b[32m    116\u001b[39m     \u001b[33m\"\u001b[39m\u001b[33mzhang_2021\u001b[39m\u001b[33m\"\u001b[39m,\n\u001b[32m    117\u001b[39m ]\n",
      "\u001b[36mFile \u001b[39m\u001b[32m~/miniconda3/envs/pertpy_env/lib/python3.11/site-packages/pertpy/data/_datasets.py:3\u001b[39m\n\u001b[32m      1\u001b[39m \u001b[38;5;28;01mfrom\u001b[39;00m\u001b[38;5;250m \u001b[39m\u001b[34;01mpathlib\u001b[39;00m\u001b[38;5;250m \u001b[39m\u001b[38;5;28;01mimport\u001b[39;00m Path\n\u001b[32m----> \u001b[39m\u001b[32m3\u001b[39m \u001b[38;5;28;01mimport\u001b[39;00m\u001b[38;5;250m \u001b[39m\u001b[34;01mscanpy\u001b[39;00m\u001b[38;5;250m \u001b[39m\u001b[38;5;28;01mas\u001b[39;00m\u001b[38;5;250m \u001b[39m\u001b[34;01msc\u001b[39;00m\n\u001b[32m      4\u001b[39m \u001b[38;5;28;01mfrom\u001b[39;00m\u001b[38;5;250m \u001b[39m\u001b[34;01manndata\u001b[39;00m\u001b[38;5;250m \u001b[39m\u001b[38;5;28;01mimport\u001b[39;00m AnnData\n\u001b[32m      5\u001b[39m \u001b[38;5;28;01mfrom\u001b[39;00m\u001b[38;5;250m \u001b[39m\u001b[34;01mmudata\u001b[39;00m\u001b[38;5;250m \u001b[39m\u001b[38;5;28;01mimport\u001b[39;00m MuData\n",
      "\u001b[36mFile \u001b[39m\u001b[32m~/miniconda3/envs/pertpy_env/lib/python3.11/site-packages/scanpy/__init__.py:60\u001b[39m\n\u001b[32m     48\u001b[39m     \u001b[38;5;28;01mfrom\u001b[39;00m\u001b[38;5;250m \u001b[39m\u001b[34;01manndata\u001b[39;00m\u001b[38;5;250m \u001b[39m\u001b[38;5;28;01mimport\u001b[39;00m (\n\u001b[32m     49\u001b[39m         read_csv,\n\u001b[32m     50\u001b[39m         read_excel,\n\u001b[32m   (...)\u001b[39m\u001b[32m     56\u001b[39m         read_umi_tools,\n\u001b[32m     57\u001b[39m     )\n\u001b[32m     58\u001b[39m \u001b[38;5;28;01mfrom\u001b[39;00m\u001b[38;5;250m \u001b[39m\u001b[34;01manndata\u001b[39;00m\u001b[38;5;250m \u001b[39m\u001b[38;5;28;01mimport\u001b[39;00m AnnData, concat\n\u001b[32m---> \u001b[39m\u001b[32m60\u001b[39m \u001b[38;5;28;01mfrom\u001b[39;00m\u001b[38;5;250m \u001b[39m\u001b[34;01m.\u001b[39;00m\u001b[38;5;250m \u001b[39m\u001b[38;5;28;01mimport\u001b[39;00m datasets, experimental, external, get, logging, metrics, queries\n\u001b[32m     61\u001b[39m \u001b[38;5;28;01mfrom\u001b[39;00m\u001b[38;5;250m \u001b[39m\u001b[34;01m.\u001b[39;00m\u001b[38;5;250m \u001b[39m\u001b[38;5;28;01mimport\u001b[39;00m plotting \u001b[38;5;28;01mas\u001b[39;00m pl\n\u001b[32m     62\u001b[39m \u001b[38;5;28;01mfrom\u001b[39;00m\u001b[38;5;250m \u001b[39m\u001b[34;01m.\u001b[39;00m\u001b[38;5;250m \u001b[39m\u001b[38;5;28;01mimport\u001b[39;00m preprocessing \u001b[38;5;28;01mas\u001b[39;00m pp\n",
      "\u001b[36mFile \u001b[39m\u001b[32m~/miniconda3/envs/pertpy_env/lib/python3.11/site-packages/scanpy/experimental/__init__.py:3\u001b[39m\n\u001b[32m      1\u001b[39m \u001b[38;5;28;01mfrom\u001b[39;00m\u001b[38;5;250m \u001b[39m\u001b[34;01m__future__\u001b[39;00m\u001b[38;5;250m \u001b[39m\u001b[38;5;28;01mimport\u001b[39;00m annotations\n\u001b[32m----> \u001b[39m\u001b[32m3\u001b[39m \u001b[38;5;28;01mfrom\u001b[39;00m\u001b[38;5;250m \u001b[39m\u001b[34;01m.\u001b[39;00m\u001b[38;5;250m \u001b[39m\u001b[38;5;28;01mimport\u001b[39;00m pp\n\u001b[32m      5\u001b[39m __all__ = [\u001b[33m\"\u001b[39m\u001b[33mpp\u001b[39m\u001b[33m\"\u001b[39m]\n",
      "\u001b[36mFile \u001b[39m\u001b[32m~/miniconda3/envs/pertpy_env/lib/python3.11/site-packages/scanpy/experimental/pp/__init__.py:3\u001b[39m\n\u001b[32m      1\u001b[39m \u001b[38;5;28;01mfrom\u001b[39;00m\u001b[38;5;250m \u001b[39m\u001b[34;01m__future__\u001b[39;00m\u001b[38;5;250m \u001b[39m\u001b[38;5;28;01mimport\u001b[39;00m annotations\n\u001b[32m----> \u001b[39m\u001b[32m3\u001b[39m \u001b[38;5;28;01mfrom\u001b[39;00m\u001b[38;5;250m \u001b[39m\u001b[34;01mscanpy\u001b[39;00m\u001b[34;01m.\u001b[39;00m\u001b[34;01mexperimental\u001b[39;00m\u001b[34;01m.\u001b[39;00m\u001b[34;01mpp\u001b[39;00m\u001b[34;01m.\u001b[39;00m\u001b[34;01m_highly_variable_genes\u001b[39;00m\u001b[38;5;250m \u001b[39m\u001b[38;5;28;01mimport\u001b[39;00m highly_variable_genes\n\u001b[32m      4\u001b[39m \u001b[38;5;28;01mfrom\u001b[39;00m\u001b[38;5;250m \u001b[39m\u001b[34;01mscanpy\u001b[39;00m\u001b[34;01m.\u001b[39;00m\u001b[34;01mexperimental\u001b[39;00m\u001b[34;01m.\u001b[39;00m\u001b[34;01mpp\u001b[39;00m\u001b[34;01m.\u001b[39;00m\u001b[34;01m_normalization\u001b[39;00m\u001b[38;5;250m \u001b[39m\u001b[38;5;28;01mimport\u001b[39;00m (\n\u001b[32m      5\u001b[39m     normalize_pearson_residuals,\n\u001b[32m      6\u001b[39m     normalize_pearson_residuals_pca,\n\u001b[32m      7\u001b[39m )\n\u001b[32m      8\u001b[39m \u001b[38;5;28;01mfrom\u001b[39;00m\u001b[38;5;250m \u001b[39m\u001b[34;01mscanpy\u001b[39;00m\u001b[34;01m.\u001b[39;00m\u001b[34;01mexperimental\u001b[39;00m\u001b[34;01m.\u001b[39;00m\u001b[34;01mpp\u001b[39;00m\u001b[34;01m.\u001b[39;00m\u001b[34;01m_recipes\u001b[39;00m\u001b[38;5;250m \u001b[39m\u001b[38;5;28;01mimport\u001b[39;00m recipe_pearson_residuals\n",
      "\u001b[36mFile \u001b[39m\u001b[32m~/miniconda3/envs/pertpy_env/lib/python3.11/site-packages/scanpy/experimental/pp/_highly_variable_genes.py:26\u001b[39m\n\u001b[32m     17\u001b[39m \u001b[38;5;28;01mfrom\u001b[39;00m\u001b[38;5;250m \u001b[39m\u001b[34;01mscanpy\u001b[39;00m\u001b[34;01m.\u001b[39;00m\u001b[34;01mexperimental\u001b[39;00m\u001b[34;01m.\u001b[39;00m\u001b[34;01m_docs\u001b[39;00m\u001b[38;5;250m \u001b[39m\u001b[38;5;28;01mimport\u001b[39;00m (\n\u001b[32m     18\u001b[39m     doc_adata,\n\u001b[32m     19\u001b[39m     doc_check_values,\n\u001b[32m   (...)\u001b[39m\u001b[32m     23\u001b[39m     doc_layer,\n\u001b[32m     24\u001b[39m )\n\u001b[32m     25\u001b[39m \u001b[38;5;28;01mfrom\u001b[39;00m\u001b[38;5;250m \u001b[39m\u001b[34;01mscanpy\u001b[39;00m\u001b[34;01m.\u001b[39;00m\u001b[34;01mget\u001b[39;00m\u001b[38;5;250m \u001b[39m\u001b[38;5;28;01mimport\u001b[39;00m _get_obs_rep\n\u001b[32m---> \u001b[39m\u001b[32m26\u001b[39m \u001b[38;5;28;01mfrom\u001b[39;00m\u001b[38;5;250m \u001b[39m\u001b[34;01mscanpy\u001b[39;00m\u001b[34;01m.\u001b[39;00m\u001b[34;01mpreprocessing\u001b[39;00m\u001b[34;01m.\u001b[39;00m\u001b[34;01m_distributed\u001b[39;00m\u001b[38;5;250m \u001b[39m\u001b[38;5;28;01mimport\u001b[39;00m materialize_as_ndarray\n\u001b[32m     27\u001b[39m \u001b[38;5;28;01mfrom\u001b[39;00m\u001b[38;5;250m \u001b[39m\u001b[34;01mscanpy\u001b[39;00m\u001b[34;01m.\u001b[39;00m\u001b[34;01mpreprocessing\u001b[39;00m\u001b[34;01m.\u001b[39;00m\u001b[34;01m_utils\u001b[39;00m\u001b[38;5;250m \u001b[39m\u001b[38;5;28;01mimport\u001b[39;00m _get_mean_var\n\u001b[32m     29\u001b[39m \u001b[38;5;28;01mif\u001b[39;00m TYPE_CHECKING:\n",
      "\u001b[36mFile \u001b[39m\u001b[32m~/miniconda3/envs/pertpy_env/lib/python3.11/site-packages/scanpy/preprocessing/__init__.py:8\u001b[39m\n\u001b[32m      6\u001b[39m \u001b[38;5;28;01mfrom\u001b[39;00m\u001b[38;5;250m \u001b[39m\u001b[34;01m.\u001b[39;00m\u001b[34;01m_highly_variable_genes\u001b[39;00m\u001b[38;5;250m \u001b[39m\u001b[38;5;28;01mimport\u001b[39;00m highly_variable_genes\n\u001b[32m      7\u001b[39m \u001b[38;5;28;01mfrom\u001b[39;00m\u001b[38;5;250m \u001b[39m\u001b[34;01m.\u001b[39;00m\u001b[34;01m_normalization\u001b[39;00m\u001b[38;5;250m \u001b[39m\u001b[38;5;28;01mimport\u001b[39;00m normalize_total\n\u001b[32m----> \u001b[39m\u001b[32m8\u001b[39m \u001b[38;5;28;01mfrom\u001b[39;00m\u001b[38;5;250m \u001b[39m\u001b[34;01m.\u001b[39;00m\u001b[34;01m_pca\u001b[39;00m\u001b[38;5;250m \u001b[39m\u001b[38;5;28;01mimport\u001b[39;00m pca\n\u001b[32m      9\u001b[39m \u001b[38;5;28;01mfrom\u001b[39;00m\u001b[38;5;250m \u001b[39m\u001b[34;01m.\u001b[39;00m\u001b[34;01m_qc\u001b[39;00m\u001b[38;5;250m \u001b[39m\u001b[38;5;28;01mimport\u001b[39;00m calculate_qc_metrics\n\u001b[32m     10\u001b[39m \u001b[38;5;28;01mfrom\u001b[39;00m\u001b[38;5;250m \u001b[39m\u001b[34;01m.\u001b[39;00m\u001b[34;01m_recipes\u001b[39;00m\u001b[38;5;250m \u001b[39m\u001b[38;5;28;01mimport\u001b[39;00m recipe_seurat, recipe_weinreb17, recipe_zheng17\n",
      "\u001b[36mFile \u001b[39m\u001b[32m~/miniconda3/envs/pertpy_env/lib/python3.11/site-packages/scanpy/preprocessing/_pca/__init__.py:17\u001b[39m\n\u001b[32m     15\u001b[39m \u001b[38;5;28;01mfrom\u001b[39;00m\u001b[38;5;250m \u001b[39m\u001b[34;01m.\u001b[39;00m\u001b[34;01m.\u001b[39;00m\u001b[34;01m.\u001b[39;00m\u001b[34;01m_compat\u001b[39;00m\u001b[38;5;250m \u001b[39m\u001b[38;5;28;01mimport\u001b[39;00m DaskArray, pkg_version\n\u001b[32m     16\u001b[39m \u001b[38;5;28;01mfrom\u001b[39;00m\u001b[38;5;250m \u001b[39m\u001b[34;01m.\u001b[39;00m\u001b[34;01m.\u001b[39;00m\u001b[34;01m.\u001b[39;00m\u001b[34;01m_settings\u001b[39;00m\u001b[38;5;250m \u001b[39m\u001b[38;5;28;01mimport\u001b[39;00m settings\n\u001b[32m---> \u001b[39m\u001b[32m17\u001b[39m \u001b[38;5;28;01mfrom\u001b[39;00m\u001b[38;5;250m \u001b[39m\u001b[34;01m.\u001b[39;00m\u001b[34;01m.\u001b[39;00m\u001b[34;01m.\u001b[39;00m\u001b[34;01m_utils\u001b[39;00m\u001b[38;5;250m \u001b[39m\u001b[38;5;28;01mimport\u001b[39;00m _doc_params, _empty, get_literal_vals, is_backed_type\n\u001b[32m     18\u001b[39m \u001b[38;5;28;01mfrom\u001b[39;00m\u001b[38;5;250m \u001b[39m\u001b[34;01m.\u001b[39;00m\u001b[34;01m.\u001b[39;00m\u001b[34;01m.\u001b[39;00m\u001b[34;01mget\u001b[39;00m\u001b[38;5;250m \u001b[39m\u001b[38;5;28;01mimport\u001b[39;00m _check_mask, _get_obs_rep\n\u001b[32m     19\u001b[39m \u001b[38;5;28;01mfrom\u001b[39;00m\u001b[38;5;250m \u001b[39m\u001b[34;01m.\u001b[39;00m\u001b[34;01m.\u001b[39;00m\u001b[34;01m_docs\u001b[39;00m\u001b[38;5;250m \u001b[39m\u001b[38;5;28;01mimport\u001b[39;00m doc_mask_var_hvg\n",
      "\u001b[31mImportError\u001b[39m: cannot import name 'get_literal_vals' from 'scanpy._utils' (/home/peidli/miniconda3/envs/pertpy_env/lib/python3.11/site-packages/scanpy/_utils/__init__.py)"
     ]
    }
   ],
   "source": [
    "from pathlib import Path\n",
    "from pertpy.tools import Mixscape\n",
    "from scanpy import AnnData, read_h5ad"
   ]
  },
  {
   "cell_type": "code",
   "execution_count": 2,
   "metadata": {},
   "outputs": [
    {
     "ename": "ImportError",
     "evalue": "cannot import name 'get_literal_vals' from 'scanpy._utils' (/home/peidli/miniconda3/envs/pertpy_env/lib/python3.11/site-packages/scanpy/_utils/__init__.py)",
     "output_type": "error",
     "traceback": [
      "\u001b[31m---------------------------------------------------------------------------\u001b[39m",
      "\u001b[31mImportError\u001b[39m                               Traceback (most recent call last)",
      "\u001b[36mCell\u001b[39m\u001b[36m \u001b[39m\u001b[32mIn[2]\u001b[39m\u001b[32m, line 1\u001b[39m\n\u001b[32m----> \u001b[39m\u001b[32m1\u001b[39m \u001b[38;5;28;01mimport\u001b[39;00m\u001b[38;5;250m \u001b[39m\u001b[34;01mpertpy\u001b[39;00m\u001b[38;5;250m \u001b[39m\u001b[38;5;28;01mas\u001b[39;00m\u001b[38;5;250m \u001b[39m\u001b[34;01mpt\u001b[39;00m\n",
      "\u001b[36mFile \u001b[39m\u001b[32m~/miniconda3/envs/pertpy_env/lib/python3.11/site-packages/pertpy/__init__.py:17\u001b[39m\n\u001b[32m     14\u001b[39m warnings.filterwarnings(\u001b[33m\"\u001b[39m\u001b[33mignore\u001b[39m\u001b[33m\"\u001b[39m, category=\u001b[38;5;167;01mSyntaxWarning\u001b[39;00m)\n\u001b[32m     15\u001b[39m warnings.filterwarnings(\u001b[33m\"\u001b[39m\u001b[33mignore\u001b[39m\u001b[33m\"\u001b[39m, category=\u001b[38;5;167;01mUserWarning\u001b[39;00m, module=\u001b[33m\"\u001b[39m\u001b[33mscvi._settings\u001b[39m\u001b[33m\"\u001b[39m)\n\u001b[32m---> \u001b[39m\u001b[32m17\u001b[39m \u001b[38;5;28;01mfrom\u001b[39;00m\u001b[38;5;250m \u001b[39m\u001b[34;01m.\u001b[39;00m\u001b[38;5;250m \u001b[39m\u001b[38;5;28;01mimport\u001b[39;00m data \u001b[38;5;28;01mas\u001b[39;00m dt\n\u001b[32m     18\u001b[39m \u001b[38;5;28;01mfrom\u001b[39;00m\u001b[38;5;250m \u001b[39m\u001b[34;01m.\u001b[39;00m\u001b[38;5;250m \u001b[39m\u001b[38;5;28;01mimport\u001b[39;00m metadata \u001b[38;5;28;01mas\u001b[39;00m md\n\u001b[32m     19\u001b[39m \u001b[38;5;28;01mfrom\u001b[39;00m\u001b[38;5;250m \u001b[39m\u001b[34;01m.\u001b[39;00m\u001b[38;5;250m \u001b[39m\u001b[38;5;28;01mimport\u001b[39;00m plot \u001b[38;5;28;01mas\u001b[39;00m pl\n",
      "\u001b[36mFile \u001b[39m\u001b[32m~/miniconda3/envs/pertpy_env/lib/python3.11/site-packages/pertpy/data/__init__.py:1\u001b[39m\n\u001b[32m----> \u001b[39m\u001b[32m1\u001b[39m \u001b[38;5;28;01mfrom\u001b[39;00m\u001b[38;5;250m \u001b[39m\u001b[34;01mpertpy\u001b[39;00m\u001b[34;01m.\u001b[39;00m\u001b[34;01mdata\u001b[39;00m\u001b[34;01m.\u001b[39;00m\u001b[34;01m_datasets\u001b[39;00m\u001b[38;5;250m \u001b[39m\u001b[38;5;28;01mimport\u001b[39;00m (\n\u001b[32m      2\u001b[39m     adamson_2016_pilot,\n\u001b[32m      3\u001b[39m     adamson_2016_upr_epistasis,\n\u001b[32m      4\u001b[39m     adamson_2016_upr_perturb_seq,\n\u001b[32m      5\u001b[39m     aissa_2021,\n\u001b[32m      6\u001b[39m     bhattacherjee,\n\u001b[32m      7\u001b[39m     burczynski_crohn,\n\u001b[32m      8\u001b[39m     chang_2021,\n\u001b[32m      9\u001b[39m     cinemaot_example,\n\u001b[32m     10\u001b[39m     combosciplex,\n\u001b[32m     11\u001b[39m     datlinger_2017,\n\u001b[32m     12\u001b[39m     datlinger_2021,\n\u001b[32m     13\u001b[39m     dialogue_example,\n\u001b[32m     14\u001b[39m     distance_example,\n\u001b[32m     15\u001b[39m     dixit_2016,\n\u001b[32m     16\u001b[39m     dixit_2016_raw,\n\u001b[32m     17\u001b[39m     dong_2023,\n\u001b[32m     18\u001b[39m     frangieh_2021,\n\u001b[32m     19\u001b[39m     frangieh_2021_protein,\n\u001b[32m     20\u001b[39m     frangieh_2021_raw,\n\u001b[32m     21\u001b[39m     frangieh_2021_rna,\n\u001b[32m     22\u001b[39m     gasperini_2019_atscale,\n\u001b[32m     23\u001b[39m     gasperini_2019_highmoi,\n\u001b[32m     24\u001b[39m     gasperini_2019_lowmoi,\n\u001b[32m     25\u001b[39m     gehring_2019,\n\u001b[32m     26\u001b[39m     haber_2017_regions,\n\u001b[32m     27\u001b[39m     hagai_2018,\n\u001b[32m     28\u001b[39m     kang_2018,\n\u001b[32m     29\u001b[39m     mcfarland_2020,\n\u001b[32m     30\u001b[39m     norman_2019,\n\u001b[32m     31\u001b[39m     norman_2019_raw,\n\u001b[32m     32\u001b[39m     papalexi_2021,\n\u001b[32m     33\u001b[39m     replogle_2022_k562_essential,\n\u001b[32m     34\u001b[39m     replogle_2022_k562_gwps,\n\u001b[32m     35\u001b[39m     replogle_2022_rpe1,\n\u001b[32m     36\u001b[39m     sc_sim_augur,\n\u001b[32m     37\u001b[39m     schiebinger_2019_16day,\n\u001b[32m     38\u001b[39m     schiebinger_2019_18day,\n\u001b[32m     39\u001b[39m     schraivogel_2020_tap_screen_chr8,\n\u001b[32m     40\u001b[39m     schraivogel_2020_tap_screen_chr11,\n\u001b[32m     41\u001b[39m     sciplex3_raw,\n\u001b[32m     42\u001b[39m     sciplex_gxe1,\n\u001b[32m     43\u001b[39m     shifrut_2018,\n\u001b[32m     44\u001b[39m     smillie_2019,\n\u001b[32m     45\u001b[39m     srivatsan_2020_sciplex2,\n\u001b[32m     46\u001b[39m     srivatsan_2020_sciplex3,\n\u001b[32m     47\u001b[39m     srivatsan_2020_sciplex4,\n\u001b[32m     48\u001b[39m     stephenson_2021_subsampled,\n\u001b[32m     49\u001b[39m     tasccoda_example,\n\u001b[32m     50\u001b[39m     tian_2019_day7neuron,\n\u001b[32m     51\u001b[39m     tian_2019_ipsc,\n\u001b[32m     52\u001b[39m     tian_2021_crispra,\n\u001b[32m     53\u001b[39m     tian_2021_crispri,\n\u001b[32m     54\u001b[39m     weinreb_2020,\n\u001b[32m     55\u001b[39m     xie_2017,\n\u001b[32m     56\u001b[39m     zhang_2021,\n\u001b[32m     57\u001b[39m     zhao_2021,\n\u001b[32m     58\u001b[39m )\n\u001b[32m     60\u001b[39m __all__ = [\n\u001b[32m     61\u001b[39m     \u001b[33m\"\u001b[39m\u001b[33madamson_2016_pilot\u001b[39m\u001b[33m\"\u001b[39m,\n\u001b[32m     62\u001b[39m     \u001b[33m\"\u001b[39m\u001b[33madamson_2016_upr_epistasis\u001b[39m\u001b[33m\"\u001b[39m,\n\u001b[32m   (...)\u001b[39m\u001b[32m    116\u001b[39m     \u001b[33m\"\u001b[39m\u001b[33mzhang_2021\u001b[39m\u001b[33m\"\u001b[39m,\n\u001b[32m    117\u001b[39m ]\n",
      "\u001b[36mFile \u001b[39m\u001b[32m~/miniconda3/envs/pertpy_env/lib/python3.11/site-packages/pertpy/data/_datasets.py:3\u001b[39m\n\u001b[32m      1\u001b[39m \u001b[38;5;28;01mfrom\u001b[39;00m\u001b[38;5;250m \u001b[39m\u001b[34;01mpathlib\u001b[39;00m\u001b[38;5;250m \u001b[39m\u001b[38;5;28;01mimport\u001b[39;00m Path\n\u001b[32m----> \u001b[39m\u001b[32m3\u001b[39m \u001b[38;5;28;01mimport\u001b[39;00m\u001b[38;5;250m \u001b[39m\u001b[34;01mscanpy\u001b[39;00m\u001b[38;5;250m \u001b[39m\u001b[38;5;28;01mas\u001b[39;00m\u001b[38;5;250m \u001b[39m\u001b[34;01msc\u001b[39;00m\n\u001b[32m      4\u001b[39m \u001b[38;5;28;01mfrom\u001b[39;00m\u001b[38;5;250m \u001b[39m\u001b[34;01manndata\u001b[39;00m\u001b[38;5;250m \u001b[39m\u001b[38;5;28;01mimport\u001b[39;00m AnnData\n\u001b[32m      5\u001b[39m \u001b[38;5;28;01mfrom\u001b[39;00m\u001b[38;5;250m \u001b[39m\u001b[34;01mmudata\u001b[39;00m\u001b[38;5;250m \u001b[39m\u001b[38;5;28;01mimport\u001b[39;00m MuData\n",
      "\u001b[36mFile \u001b[39m\u001b[32m~/miniconda3/envs/pertpy_env/lib/python3.11/site-packages/scanpy/__init__.py:60\u001b[39m\n\u001b[32m     48\u001b[39m     \u001b[38;5;28;01mfrom\u001b[39;00m\u001b[38;5;250m \u001b[39m\u001b[34;01manndata\u001b[39;00m\u001b[38;5;250m \u001b[39m\u001b[38;5;28;01mimport\u001b[39;00m (\n\u001b[32m     49\u001b[39m         read_csv,\n\u001b[32m     50\u001b[39m         read_excel,\n\u001b[32m   (...)\u001b[39m\u001b[32m     56\u001b[39m         read_umi_tools,\n\u001b[32m     57\u001b[39m     )\n\u001b[32m     58\u001b[39m \u001b[38;5;28;01mfrom\u001b[39;00m\u001b[38;5;250m \u001b[39m\u001b[34;01manndata\u001b[39;00m\u001b[38;5;250m \u001b[39m\u001b[38;5;28;01mimport\u001b[39;00m AnnData, concat\n\u001b[32m---> \u001b[39m\u001b[32m60\u001b[39m \u001b[38;5;28;01mfrom\u001b[39;00m\u001b[38;5;250m \u001b[39m\u001b[34;01m.\u001b[39;00m\u001b[38;5;250m \u001b[39m\u001b[38;5;28;01mimport\u001b[39;00m datasets, experimental, external, get, logging, metrics, queries\n\u001b[32m     61\u001b[39m \u001b[38;5;28;01mfrom\u001b[39;00m\u001b[38;5;250m \u001b[39m\u001b[34;01m.\u001b[39;00m\u001b[38;5;250m \u001b[39m\u001b[38;5;28;01mimport\u001b[39;00m plotting \u001b[38;5;28;01mas\u001b[39;00m pl\n\u001b[32m     62\u001b[39m \u001b[38;5;28;01mfrom\u001b[39;00m\u001b[38;5;250m \u001b[39m\u001b[34;01m.\u001b[39;00m\u001b[38;5;250m \u001b[39m\u001b[38;5;28;01mimport\u001b[39;00m preprocessing \u001b[38;5;28;01mas\u001b[39;00m pp\n",
      "\u001b[36mFile \u001b[39m\u001b[32m~/miniconda3/envs/pertpy_env/lib/python3.11/site-packages/scanpy/experimental/__init__.py:3\u001b[39m\n\u001b[32m      1\u001b[39m \u001b[38;5;28;01mfrom\u001b[39;00m\u001b[38;5;250m \u001b[39m\u001b[34;01m__future__\u001b[39;00m\u001b[38;5;250m \u001b[39m\u001b[38;5;28;01mimport\u001b[39;00m annotations\n\u001b[32m----> \u001b[39m\u001b[32m3\u001b[39m \u001b[38;5;28;01mfrom\u001b[39;00m\u001b[38;5;250m \u001b[39m\u001b[34;01m.\u001b[39;00m\u001b[38;5;250m \u001b[39m\u001b[38;5;28;01mimport\u001b[39;00m pp\n\u001b[32m      5\u001b[39m __all__ = [\u001b[33m\"\u001b[39m\u001b[33mpp\u001b[39m\u001b[33m\"\u001b[39m]\n",
      "\u001b[36mFile \u001b[39m\u001b[32m~/miniconda3/envs/pertpy_env/lib/python3.11/site-packages/scanpy/experimental/pp/__init__.py:4\u001b[39m\n\u001b[32m      1\u001b[39m \u001b[38;5;28;01mfrom\u001b[39;00m\u001b[38;5;250m \u001b[39m\u001b[34;01m__future__\u001b[39;00m\u001b[38;5;250m \u001b[39m\u001b[38;5;28;01mimport\u001b[39;00m annotations\n\u001b[32m      3\u001b[39m \u001b[38;5;28;01mfrom\u001b[39;00m\u001b[38;5;250m \u001b[39m\u001b[34;01mscanpy\u001b[39;00m\u001b[34;01m.\u001b[39;00m\u001b[34;01mexperimental\u001b[39;00m\u001b[34;01m.\u001b[39;00m\u001b[34;01mpp\u001b[39;00m\u001b[34;01m.\u001b[39;00m\u001b[34;01m_highly_variable_genes\u001b[39;00m\u001b[38;5;250m \u001b[39m\u001b[38;5;28;01mimport\u001b[39;00m highly_variable_genes\n\u001b[32m----> \u001b[39m\u001b[32m4\u001b[39m \u001b[38;5;28;01mfrom\u001b[39;00m\u001b[38;5;250m \u001b[39m\u001b[34;01mscanpy\u001b[39;00m\u001b[34;01m.\u001b[39;00m\u001b[34;01mexperimental\u001b[39;00m\u001b[34;01m.\u001b[39;00m\u001b[34;01mpp\u001b[39;00m\u001b[34;01m.\u001b[39;00m\u001b[34;01m_normalization\u001b[39;00m\u001b[38;5;250m \u001b[39m\u001b[38;5;28;01mimport\u001b[39;00m (\n\u001b[32m      5\u001b[39m     normalize_pearson_residuals,\n\u001b[32m      6\u001b[39m     normalize_pearson_residuals_pca,\n\u001b[32m      7\u001b[39m )\n\u001b[32m      8\u001b[39m \u001b[38;5;28;01mfrom\u001b[39;00m\u001b[38;5;250m \u001b[39m\u001b[34;01mscanpy\u001b[39;00m\u001b[34;01m.\u001b[39;00m\u001b[34;01mexperimental\u001b[39;00m\u001b[34;01m.\u001b[39;00m\u001b[34;01mpp\u001b[39;00m\u001b[34;01m.\u001b[39;00m\u001b[34;01m_recipes\u001b[39;00m\u001b[38;5;250m \u001b[39m\u001b[38;5;28;01mimport\u001b[39;00m recipe_pearson_residuals\n\u001b[32m     10\u001b[39m __all__ = [\n\u001b[32m     11\u001b[39m     \u001b[33m\"\u001b[39m\u001b[33mhighly_variable_genes\u001b[39m\u001b[33m\"\u001b[39m,\n\u001b[32m     12\u001b[39m     \u001b[33m\"\u001b[39m\u001b[33mnormalize_pearson_residuals\u001b[39m\u001b[33m\"\u001b[39m,\n\u001b[32m     13\u001b[39m     \u001b[33m\"\u001b[39m\u001b[33mnormalize_pearson_residuals_pca\u001b[39m\u001b[33m\"\u001b[39m,\n\u001b[32m     14\u001b[39m     \u001b[33m\"\u001b[39m\u001b[33mrecipe_pearson_residuals\u001b[39m\u001b[33m\"\u001b[39m,\n\u001b[32m     15\u001b[39m ]\n",
      "\u001b[36mFile \u001b[39m\u001b[32m~/miniconda3/envs/pertpy_env/lib/python3.11/site-packages/scanpy/experimental/pp/_normalization.py:28\u001b[39m\n\u001b[32m     18\u001b[39m \u001b[38;5;28;01mfrom\u001b[39;00m\u001b[38;5;250m \u001b[39m\u001b[34;01m.\u001b[39;00m\u001b[34;01m.\u001b[39;00m\u001b[34;01m.\u001b[39;00m\u001b[34;01mexperimental\u001b[39;00m\u001b[34;01m.\u001b[39;00m\u001b[34;01m_docs\u001b[39;00m\u001b[38;5;250m \u001b[39m\u001b[38;5;28;01mimport\u001b[39;00m (\n\u001b[32m     19\u001b[39m     doc_adata,\n\u001b[32m     20\u001b[39m     doc_check_values,\n\u001b[32m   (...)\u001b[39m\u001b[32m     25\u001b[39m     doc_pca_chunk,\n\u001b[32m     26\u001b[39m )\n\u001b[32m     27\u001b[39m \u001b[38;5;28;01mfrom\u001b[39;00m\u001b[38;5;250m \u001b[39m\u001b[34;01m.\u001b[39;00m\u001b[34;01m.\u001b[39;00m\u001b[34;01m.\u001b[39;00m\u001b[34;01mget\u001b[39;00m\u001b[38;5;250m \u001b[39m\u001b[38;5;28;01mimport\u001b[39;00m _get_obs_rep, _set_obs_rep\n\u001b[32m---> \u001b[39m\u001b[32m28\u001b[39m \u001b[38;5;28;01mfrom\u001b[39;00m\u001b[38;5;250m \u001b[39m\u001b[34;01m.\u001b[39;00m\u001b[34;01m.\u001b[39;00m\u001b[34;01m.\u001b[39;00m\u001b[34;01mpreprocessing\u001b[39;00m\u001b[34;01m.\u001b[39;00m\u001b[34;01m_docs\u001b[39;00m\u001b[38;5;250m \u001b[39m\u001b[38;5;28;01mimport\u001b[39;00m doc_mask_var_hvg\n\u001b[32m     29\u001b[39m \u001b[38;5;28;01mfrom\u001b[39;00m\u001b[38;5;250m \u001b[39m\u001b[34;01m.\u001b[39;00m\u001b[34;01m.\u001b[39;00m\u001b[34;01m.\u001b[39;00m\u001b[34;01mpreprocessing\u001b[39;00m\u001b[34;01m.\u001b[39;00m\u001b[34;01m_pca\u001b[39;00m\u001b[38;5;250m \u001b[39m\u001b[38;5;28;01mimport\u001b[39;00m _handle_mask_var, pca\n\u001b[32m     31\u001b[39m \u001b[38;5;28;01mif\u001b[39;00m TYPE_CHECKING:\n",
      "\u001b[36mFile \u001b[39m\u001b[32m~/miniconda3/envs/pertpy_env/lib/python3.11/site-packages/scanpy/preprocessing/__init__.py:8\u001b[39m\n\u001b[32m      6\u001b[39m \u001b[38;5;28;01mfrom\u001b[39;00m\u001b[38;5;250m \u001b[39m\u001b[34;01m.\u001b[39;00m\u001b[34;01m_highly_variable_genes\u001b[39;00m\u001b[38;5;250m \u001b[39m\u001b[38;5;28;01mimport\u001b[39;00m highly_variable_genes\n\u001b[32m      7\u001b[39m \u001b[38;5;28;01mfrom\u001b[39;00m\u001b[38;5;250m \u001b[39m\u001b[34;01m.\u001b[39;00m\u001b[34;01m_normalization\u001b[39;00m\u001b[38;5;250m \u001b[39m\u001b[38;5;28;01mimport\u001b[39;00m normalize_total\n\u001b[32m----> \u001b[39m\u001b[32m8\u001b[39m \u001b[38;5;28;01mfrom\u001b[39;00m\u001b[38;5;250m \u001b[39m\u001b[34;01m.\u001b[39;00m\u001b[34;01m_pca\u001b[39;00m\u001b[38;5;250m \u001b[39m\u001b[38;5;28;01mimport\u001b[39;00m pca\n\u001b[32m      9\u001b[39m \u001b[38;5;28;01mfrom\u001b[39;00m\u001b[38;5;250m \u001b[39m\u001b[34;01m.\u001b[39;00m\u001b[34;01m_qc\u001b[39;00m\u001b[38;5;250m \u001b[39m\u001b[38;5;28;01mimport\u001b[39;00m calculate_qc_metrics\n\u001b[32m     10\u001b[39m \u001b[38;5;28;01mfrom\u001b[39;00m\u001b[38;5;250m \u001b[39m\u001b[34;01m.\u001b[39;00m\u001b[34;01m_recipes\u001b[39;00m\u001b[38;5;250m \u001b[39m\u001b[38;5;28;01mimport\u001b[39;00m recipe_seurat, recipe_weinreb17, recipe_zheng17\n",
      "\u001b[36mFile \u001b[39m\u001b[32m~/miniconda3/envs/pertpy_env/lib/python3.11/site-packages/scanpy/preprocessing/_pca/__init__.py:17\u001b[39m\n\u001b[32m     15\u001b[39m \u001b[38;5;28;01mfrom\u001b[39;00m\u001b[38;5;250m \u001b[39m\u001b[34;01m.\u001b[39;00m\u001b[34;01m.\u001b[39;00m\u001b[34;01m.\u001b[39;00m\u001b[34;01m_compat\u001b[39;00m\u001b[38;5;250m \u001b[39m\u001b[38;5;28;01mimport\u001b[39;00m DaskArray, pkg_version\n\u001b[32m     16\u001b[39m \u001b[38;5;28;01mfrom\u001b[39;00m\u001b[38;5;250m \u001b[39m\u001b[34;01m.\u001b[39;00m\u001b[34;01m.\u001b[39;00m\u001b[34;01m.\u001b[39;00m\u001b[34;01m_settings\u001b[39;00m\u001b[38;5;250m \u001b[39m\u001b[38;5;28;01mimport\u001b[39;00m settings\n\u001b[32m---> \u001b[39m\u001b[32m17\u001b[39m \u001b[38;5;28;01mfrom\u001b[39;00m\u001b[38;5;250m \u001b[39m\u001b[34;01m.\u001b[39;00m\u001b[34;01m.\u001b[39;00m\u001b[34;01m.\u001b[39;00m\u001b[34;01m_utils\u001b[39;00m\u001b[38;5;250m \u001b[39m\u001b[38;5;28;01mimport\u001b[39;00m _doc_params, _empty, get_literal_vals, is_backed_type\n\u001b[32m     18\u001b[39m \u001b[38;5;28;01mfrom\u001b[39;00m\u001b[38;5;250m \u001b[39m\u001b[34;01m.\u001b[39;00m\u001b[34;01m.\u001b[39;00m\u001b[34;01m.\u001b[39;00m\u001b[34;01mget\u001b[39;00m\u001b[38;5;250m \u001b[39m\u001b[38;5;28;01mimport\u001b[39;00m _check_mask, _get_obs_rep\n\u001b[32m     19\u001b[39m \u001b[38;5;28;01mfrom\u001b[39;00m\u001b[38;5;250m \u001b[39m\u001b[34;01m.\u001b[39;00m\u001b[34;01m.\u001b[39;00m\u001b[34;01m_docs\u001b[39;00m\u001b[38;5;250m \u001b[39m\u001b[38;5;28;01mimport\u001b[39;00m doc_mask_var_hvg\n",
      "\u001b[31mImportError\u001b[39m: cannot import name 'get_literal_vals' from 'scanpy._utils' (/home/peidli/miniconda3/envs/pertpy_env/lib/python3.11/site-packages/scanpy/_utils/__init__.py)"
     ]
    }
   ],
   "source": [
    "import pertpy as pt"
   ]
  },
  {
   "cell_type": "code",
   "execution_count": null,
   "metadata": {},
   "outputs": [],
   "source": [
    "input = \"/scratch/peidli/pertpy_benchmark/mixscape_data_10000.h5ad\"\n",
    "\n",
    "adata = read_h5ad(input)"
   ]
  },
  {
   "cell_type": "code",
   "execution_count": null,
   "metadata": {},
   "outputs": [
    {
     "name": "stderr",
     "output_type": "stream",
     "text": [
      "Exception ignored on calling ctypes callback function: <function ExecutionEngine._raw_object_cache_notify at 0x7fff1ebb2fc0>\n",
      "Traceback (most recent call last):\n",
      "  File \"/home/peidli/miniconda3/envs/pertpy_env/lib/python3.11/site-packages/llvmlite/binding/executionengine.py\", line 178, in _raw_object_cache_notify\n",
      "    def _raw_object_cache_notify(self, data):\n",
      "\n",
      "KeyboardInterrupt: \n",
      "/home/peidli/miniconda3/envs/pertpy_env/lib/python3.11/site-packages/scipy/sparse/_data.py:144: RuntimeWarning: overflow encountered in expm1\n",
      "  result = op(self._deduped_data())\n",
      "/scratch/peidli/temp/pertpy/pertpy/tools/_mixscape.py:143: RuntimeWarning: overflow encountered in expm1\n",
      "  X_control = np.expm1(adata.X[np.asarray(control_mask_split)])\n"
     ]
    }
   ],
   "source": [
    "# Mitigating confounding effects\n",
    "mixscape_identifier = Mixscape()\n",
    "mixscape_identifier.perturbation_signature(\n",
    "    adata, \n",
    "    \"perturbation\", \n",
    "    \"NT\", \n",
    "    split_by=\"replicate\", \n",
    "    n_neighbors=20, \n",
    "    n_dims=40,\n",
    ")\n",
    "\n",
    "adata_pert = adata.copy()\n",
    "adata_pert.X = adata_pert.layers[\"X_pert\"]\n",
    "\n",
    "# Identify cells with no detectable perturbation\n",
    "mixscape_identifier.mixscape(\n",
    "    adata=adata, \n",
    "    control=\"NT\", \n",
    "    labels=\"gene_target\", \n",
    "    layer=\"X_pert\"\n",
    ")"
   ]
  },
  {
   "cell_type": "code",
   "execution_count": null,
   "metadata": {},
   "outputs": [],
   "source": []
  }
 ],
 "metadata": {
  "kernelspec": {
   "display_name": "pertpy_env",
   "language": "python",
   "name": "python3"
  },
  "language_info": {
   "codemirror_mode": {
    "name": "ipython",
    "version": 3
   },
   "file_extension": ".py",
   "mimetype": "text/x-python",
   "name": "python",
   "nbconvert_exporter": "python",
   "pygments_lexer": "ipython3",
   "version": "3.11.12"
  }
 },
 "nbformat": 4,
 "nbformat_minor": 2
}
