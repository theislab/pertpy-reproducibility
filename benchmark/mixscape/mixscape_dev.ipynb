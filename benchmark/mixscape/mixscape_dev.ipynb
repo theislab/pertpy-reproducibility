{
 "cells": [
  {
   "cell_type": "code",
   "execution_count": 5,
   "metadata": {
    "vscode": {
     "languageId": "r"
    }
   },
   "outputs": [],
   "source": [
    "# Load packages\n",
    "suppressPackageStartupMessages({\n",
    "  library(Seurat)\n",
    "  library(SeuratData)\n",
    "  library(ggplot2)\n",
    "  library(patchwork)\n",
    "  library(scales)\n",
    "  library(dplyr)\n",
    "  library(reshape2)\n",
    "})"
   ]
  },
  {
   "cell_type": "code",
   "execution_count": 6,
   "metadata": {
    "vscode": {
     "languageId": "r"
    }
   },
   "outputs": [
    {
     "name": "stderr",
     "output_type": "stream",
     "text": [
      "Warning message:\n",
      "“The following packages are already installed and will not be reinstalled: thp1.eccite”\n",
      "Validating object structure\n",
      "\n",
      "Updating object slots\n",
      "\n",
      "Ensuring keys are in the proper structure\n",
      "\n",
      "Warning message:\n",
      "“Assay RNA changing from Assay to Assay”\n",
      "Warning message:\n",
      "“Assay ADT changing from Assay to Assay”\n",
      "Warning message:\n",
      "“Assay HTO changing from Assay to Assay”\n",
      "Warning message:\n",
      "“Assay GDO changing from Assay to Assay”\n",
      "Ensuring keys are in the proper structure\n",
      "\n",
      "Ensuring feature names don't have underscores or pipes\n",
      "\n",
      "Updating slots in RNA\n",
      "\n",
      "Updating slots in ADT\n",
      "\n",
      "Updating slots in HTO\n",
      "\n",
      "Updating slots in GDO\n",
      "\n",
      "Validating object structure for Assay ‘RNA’\n",
      "\n",
      "Validating object structure for Assay ‘ADT’\n",
      "\n",
      "Validating object structure for Assay ‘HTO’\n",
      "\n",
      "Validating object structure for Assay ‘GDO’\n",
      "\n",
      "Object representation is consistent with the most current Seurat version\n",
      "\n"
     ]
    }
   ],
   "source": [
    "# Load dataset\n",
    "InstallData(ds = \"thp1.eccite\")\n",
    "eccite <- LoadData(ds = \"thp1.eccite\")\n",
    "eccite <- UpdateSeuratObject(eccite)"
   ]
  },
  {
   "cell_type": "code",
   "execution_count": 7,
   "metadata": {
    "vscode": {
     "languageId": "r"
    }
   },
   "outputs": [
    {
     "name": "stderr",
     "output_type": "stream",
     "text": [
      "Normalizing across cells\n",
      "\n"
     ]
    },
    {
     "name": "stderr",
     "output_type": "stream",
     "text": [
      "Centering and scaling data matrix\n",
      "\n",
      "Warning message:\n",
      "“No columnames present in cell embeddings, setting to 'PC_1:50'”\n"
     ]
    }
   ],
   "source": [
    "# Preprocessing\n",
    "# Protein\n",
    "eccite <- Seurat::NormalizeData(\n",
    "  object = eccite,\n",
    "  assay = \"ADT\",\n",
    "  normalization.method = \"CLR\",\n",
    "  margin = 2)\n",
    "\n",
    "# RNA\n",
    "DefaultAssay(object = eccite) <- 'RNA'\n",
    "eccite <- NormalizeData(object = eccite) %>% FindVariableFeatures() %>% ScaleData()\n",
    "\n",
    "# Create a random matrix with one row per cell and 50 principal components\n",
    "set.seed(123)\n",
    "cells <- Cells(eccite)\n",
    "rand_mat <- matrix(rnorm(length(cells) * 50, 0, 1), nrow = length(cells), ncol = 50)\n",
    "rownames(rand_mat) <- cells\n",
    "eccite[[\"pca\"]] <- CreateDimReducObject(\n",
    "  embeddings = rand_mat,\n",
    "  key = \"PC_\",\n",
    "  assay = DefaultAssay(eccite)\n",
    ")\n"
   ]
  },
  {
   "cell_type": "code",
   "execution_count": 8,
   "metadata": {
    "vscode": {
     "languageId": "r"
    }
   },
   "outputs": [
    {
     "name": "stderr",
     "output_type": "stream",
     "text": [
      "Processing rep1\n",
      "\n",
      "Processing rep3\n",
      "\n",
      "Processing rep2\n",
      "\n",
      "Warning message:\n",
      "“Layer counts isn't present in the assay object; returning NULL”\n"
     ]
    }
   ],
   "source": [
    "# Mitigating confounding effects\n",
    "eccite<- CalcPerturbSig(\n",
    "  object = eccite,\n",
    "  assay = \"RNA\",\n",
    "  slot = \"data\",\n",
    "  gd.class =\"gene\",\n",
    "  nt.cell.class = \"NT\",\n",
    "  reduction = \"pca\",\n",
    "  ndims = 40,\n",
    "  num.neighbors = 20,\n",
    "  split.by = \"replicate\",\n",
    "  new.assay.name = \"PRTB\")"
   ]
  },
  {
   "cell_type": "code",
   "execution_count": null,
   "metadata": {
    "vscode": {
     "languageId": "r"
    }
   },
   "outputs": [
    {
     "name": "stderr",
     "output_type": "stream",
     "text": [
      "For a (much!) faster implementation of the Wilcoxon Rank Sum Test,\n",
      "(default method for FindMarkers) please install the presto package\n",
      "--------------------------------------------\n",
      "install.packages('devtools')\n",
      "devtools::install_github('immunogenomics/presto')\n",
      "--------------------------------------------\n",
      "After installation of presto, Seurat will automatically use the more \n",
      "efficient implementation (no further action necessary).\n",
      "This message will be shown once per session\n",
      "\n",
      "Warning message:\n",
      "“Different cells and/or features from existing assay PRTB”\n",
      "Warning message:\n",
      "“Layer counts isn't present in the assay object; returning NULL”\n"
     ]
    },
    {
     "name": "stdout",
     "output_type": "stream",
     "text": [
      "number of iterations= 198 \n",
      "number of iterations= 361 \n",
      "number of iterations= 258 \n",
      "number of iterations= 30 \n",
      "number of iterations= 15 \n",
      "number of iterations= 24 \n",
      "number of iterations= 16 \n",
      "number of iterations= 16 \n",
      "number of iterations= 124 \n",
      "number of iterations= 109 \n",
      "number of iterations= 105 \n",
      "number of iterations= 104 \n",
      "number of iterations= 103 \n",
      "number of iterations= 103 \n",
      "number of iterations= 27 \n",
      "number of iterations= 17 \n",
      "number of iterations= 17 \n",
      "number of iterations= 27 \n",
      "number of iterations= 25 \n",
      "number of iterations= 25 \n",
      "number of iterations= 25 \n",
      "number of iterations= 99 \n",
      "number of iterations= 93 \n",
      "number of iterations= 93 \n",
      "number of iterations= 49 \n",
      "number of iterations= 36 \n",
      "number of iterations= 36 \n",
      "number of iterations= 31 \n",
      "number of iterations= 20 \n",
      "number of iterations= 20 \n",
      "number of iterations= 18 \n",
      "number of iterations= 16 \n",
      "number of iterations= 58 \n",
      "number of iterations= 30 \n"
     ]
    }
   ],
   "source": [
    "# Prepare PRTB assay for dimensionality reduction:\n",
    "# Normalize data, find variable features and center data\n",
    "DefaultAssay(object = eccite) <- 'PRTB'\n",
    "\n",
    "# identify cells with no detectable perturbation\n",
    "eccite <- RunMixscape(\n",
    "  object = eccite,\n",
    "  assay = \"PRTB\",\n",
    "  slot = \"scale.data\",\n",
    "  labels = \"gene\",\n",
    "  nt.class.name = \"NT\",\n",
    "  min.de.genes = 5,\n",
    "  iter.num = 10,\n",
    "  de.assay = \"RNA\",\n",
    "  verbose = F,\n",
    "  prtb.type = \"KO\")"
   ]
  }
 ],
 "metadata": {
  "kernelspec": {
   "display_name": "R",
   "language": "R",
   "name": "ir"
  },
  "language_info": {
   "codemirror_mode": "r",
   "file_extension": ".r",
   "mimetype": "text/x-r-source",
   "name": "R",
   "pygments_lexer": "r",
   "version": "4.4.3"
  }
 },
 "nbformat": 4,
 "nbformat_minor": 2
}
