{
 "cells": [
  {
   "cell_type": "code",
   "execution_count": null,
   "metadata": {},
   "outputs": [],
   "source": [
    "import scanpy as sc\n",
    "import pandas as pd"
   ]
  },
  {
   "cell_type": "code",
   "execution_count": null,
   "metadata": {},
   "outputs": [],
   "source": [
    "adata = sc.read(snakemake.input.h5ad)\n",
    "outpath = str(snakemake.output.rds)"
   ]
  },
  {
   "cell_type": "code",
   "execution_count": null,
   "metadata": {},
   "outputs": [],
   "source": [
    "# Convert elements to make R object (I don't need expression data)\n",
    "obs = adata.obs\n",
    "obsm_scvi = adata.obsm['X_scVI']\n",
    "obsm_umap = adata.obsm['X_umap']"
   ]
  },
  {
   "cell_type": "code",
   "execution_count": null,
   "metadata": {},
   "outputs": [],
   "source": [
    "%%R -i obs -i obsm_scvi -i obsm_umap -i outpath\n",
    "library(SingleCellExperiment)\n",
    "sce = SingleCellExperiment(\n",
    "    colData = obs,\n",
    "    reducedDims = list(\n",
    "        scvi = obsm_scvi,\n",
    "        umap = obsm_umap\n",
    "    ))\n",
    "\n",
    "saveRDS(sce, outpath)"
   ]
  }
 ],
 "metadata": {
  "kernelspec": {
   "display_name": "pertpy_dev",
   "language": "python",
   "name": "python3"
  },
  "language_info": {
   "name": "python",
   "version": "3.10.14"
  }
 },
 "nbformat": 4,
 "nbformat_minor": 2
}
