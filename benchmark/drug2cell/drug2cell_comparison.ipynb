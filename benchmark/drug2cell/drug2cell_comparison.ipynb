{
 "cells": [
  {
   "cell_type": "markdown",
   "metadata": {},
   "source": [
    "# Drug2cell comparison"
   ]
  },
  {
   "cell_type": "code",
   "execution_count": 1,
   "metadata": {},
   "outputs": [],
   "source": [
    "import warnings\n",
    "\n",
    "warnings.filterwarnings(\"ignore\")"
   ]
  },
  {
   "cell_type": "markdown",
   "metadata": {},
   "source": [
    "## Original drug2cell implementation"
   ]
  },
  {
   "cell_type": "code",
   "execution_count": 2,
   "metadata": {},
   "outputs": [],
   "source": [
    "import blitzgsea as blitz\n",
    "import drug2cell as d2c\n",
    "import scanpy as sc\n",
    "\n",
    "adata = sc.datasets.pbmc3k_processed()\n",
    "\n",
    "d2c.score(adata)\n",
    "\n",
    "targets = blitz.enrichr.get_library(\"GO_Molecular_Function_2021\")\n",
    "sc.tl.rank_genes_groups(adata, method=\"wilcoxon\", groupby=\"louvain\", use_raw=False)\n",
    "overrepresentation_old = d2c.hypergeometric(adata, targets=targets)\n",
    "\n",
    "targets = blitz.enrichr.get_library(\"GO_Molecular_Function_2021\")\n",
    "enrichment_old, plot_gsea_args = d2c.gsea(adata, targets=targets)"
   ]
  },
  {
   "cell_type": "markdown",
   "metadata": {},
   "source": [
    "## Pertpy implementation"
   ]
  },
  {
   "cell_type": "code",
   "execution_count": 3,
   "metadata": {},
   "outputs": [],
   "source": [
    "import pertpy as pt\n",
    "\n",
    "adata = sc.datasets.pbmc3k_processed()\n",
    "\n",
    "pt_chembl = pt.md.Drug()\n",
    "pt_chembl.annotate(adata, source=\"chembl\")\n",
    "\n",
    "pt_enricher = pt.tl.Enrichment()\n",
    "pt_enricher.score(adata)\n",
    "\n",
    "targets = blitz.enrichr.get_library(\"GO_Molecular_Function_2021\")\n",
    "sc.tl.rank_genes_groups(adata, method=\"wilcoxon\", groupby=\"louvain\", use_raw=False)\n",
    "overrepresentation_new = pt_enricher.hypergeometric(adata, targets=targets)\n",
    "\n",
    "pt_enricher.score(adata, targets=targets)\n",
    "enrichment_new = pt_enricher.gsea(adata, targets=targets)"
   ]
  },
  {
   "cell_type": "markdown",
   "metadata": {},
   "source": [
    "## Comparison"
   ]
  },
  {
   "cell_type": "code",
   "execution_count": 4,
   "metadata": {},
   "outputs": [],
   "source": [
    "# Check that the overrepresentations are the same\n",
    "assert overrepresentation_old[\"B cells\"].equals(overrepresentation_new[\"B cells\"])"
   ]
  },
  {
   "cell_type": "code",
   "execution_count": 5,
   "metadata": {},
   "outputs": [
    {
     "data": {
      "text/plain": [
       "True"
      ]
     },
     "execution_count": 5,
     "metadata": {},
     "output_type": "execute_result"
    }
   ],
   "source": [
    "# Check that the enrichments are the same\n",
    "all(k in enrichment_new and enrichment_old[k].equals(enrichment_new[k]) for k in enrichment_old) and len(\n",
    "    enrichment_old\n",
    ") == len(enrichment_new)"
   ]
  }
 ],
 "metadata": {
  "kernelspec": {
   "display_name": "drug2cell",
   "language": "python",
   "name": "python3"
  },
  "language_info": {
   "codemirror_mode": {
    "name": "ipython",
    "version": 3
   },
   "file_extension": ".py",
   "mimetype": "text/x-python",
   "name": "python",
   "nbconvert_exporter": "python",
   "pygments_lexer": "ipython3",
   "version": "3.12.9"
  }
 },
 "nbformat": 4,
 "nbformat_minor": 2
}
