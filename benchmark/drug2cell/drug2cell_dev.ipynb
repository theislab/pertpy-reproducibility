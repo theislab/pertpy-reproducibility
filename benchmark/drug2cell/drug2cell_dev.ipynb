{
 "cells": [
  {
   "cell_type": "code",
   "execution_count": 1,
   "metadata": {},
   "outputs": [],
   "source": [
    "import time\n",
    "from pathlib import Path\n",
    "\n",
    "import blitzgsea as blitz\n",
    "import drug2cell as d2c\n",
    "import scanpy as sc\n",
    "\n"
   ]
  },
  {
   "cell_type": "code",
   "execution_count": 2,
   "metadata": {},
   "outputs": [
    {
     "data": {
      "application/vnd.jupyter.widget-view+json": {
       "model_id": "58d57a2249b7480599267a8c9da07b17",
       "version_major": 2,
       "version_minor": 0
      },
      "text/plain": [
       "  0%|          | 0.00/23.5M [00:00<?, ?B/s]"
      ]
     },
     "metadata": {},
     "output_type": "display_data"
    },
    {
     "name": "stderr",
     "output_type": "stream",
     "text": [
      "/home/peidli/miniconda3/envs/pertpy_dev/lib/python3.10/site-packages/anndata/_core/anndata.py:1818: UserWarning: Observation names are not unique. To make them unique, call `.obs_names_make_unique`.\n",
      "  utils.warn_names_duplicates(\"obs\")\n"
     ]
    }
   ],
   "source": [
    "n_obs=1000\n",
    "adata = sc.datasets.pbmc3k_processed()\n",
    "sc.pp.sample(adata, n=n_obs, rng=0, replace=True)\n"
   ]
  },
  {
   "cell_type": "code",
   "execution_count": 3,
   "metadata": {},
   "outputs": [
    {
     "name": "stderr",
     "output_type": "stream",
     "text": [
      "/home/peidli/miniconda3/envs/pertpy_dev/lib/python3.10/site-packages/anndata/_core/anndata.py:1818: UserWarning: Observation names are not unique. To make them unique, call `.obs_names_make_unique`.\n",
      "  utils.warn_names_duplicates(\"obs\")\n",
      "/home/peidli/miniconda3/envs/pertpy_dev/lib/python3.10/site-packages/anndata/_core/anndata.py:1818: UserWarning: Observation names are not unique. To make them unique, call `.obs_names_make_unique`.\n",
      "  utils.warn_names_duplicates(\"obs\")\n"
     ]
    },
    {
     "name": "stdout",
     "output_type": "stream",
     "text": [
      "Runtime: 69.34 seconds\n"
     ]
    }
   ],
   "source": [
    "start = time.time()\n",
    "\n",
    "d2c.score(adata, use_raw=True)\n",
    "\n",
    "sc.tl.rank_genes_groups(adata.uns[\"drug2cell\"], method=\"wilcoxon\", groupby=\"louvain\")\n",
    "\n",
    "targets = blitz.enrichr.get_library(\"GO_Molecular_Function_2021\")\n",
    "targets[\"MHC class II receptor activity (GO:0032395)\"]\n",
    "\n",
    "d2c.score(adata, targets=targets, use_raw=True)\n",
    "\n",
    "sc.tl.rank_genes_groups(adata, method=\"wilcoxon\", groupby=\"louvain\", use_raw=True)\n",
    "\n",
    "overrepresentation = d2c.hypergeometric(adata)\n",
    "overrepresentation[\"B cells\"]\n",
    "\n",
    "del adata.uns[\"drug2cell\"]\n",
    "\n",
    "enrichment, plot_gsea_args = d2c.gsea(adata, targets=targets)\n",
    "\n",
    "runtime = time.time() - start\n",
    "print(f\"Runtime: {runtime:.2f} seconds\")"
   ]
  },
  {
   "cell_type": "code",
   "execution_count": null,
   "metadata": {},
   "outputs": [],
   "source": []
  }
 ],
 "metadata": {
  "kernelspec": {
   "display_name": "pertpy_dev",
   "language": "python",
   "name": "python3"
  },
  "language_info": {
   "codemirror_mode": {
    "name": "ipython",
    "version": 3
   },
   "file_extension": ".py",
   "mimetype": "text/x-python",
   "name": "python",
   "nbconvert_exporter": "python",
   "pygments_lexer": "ipython3",
   "version": "3.10.14"
  }
 },
 "nbformat": 4,
 "nbformat_minor": 2
}
